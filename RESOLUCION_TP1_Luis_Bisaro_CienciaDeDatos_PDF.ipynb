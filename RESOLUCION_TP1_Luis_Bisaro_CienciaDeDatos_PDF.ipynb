{
  "cells": [
    {
      "cell_type": "markdown",
      "metadata": {
        "id": "view-in-github",
        "colab_type": "text"
      },
      "source": [
        "<a href=\"https://colab.research.google.com/github/luisbisaro/pandas.datasets/blob/main/RESOLUCION_TP1_Luis_Bisaro_CienciaDeDatos_PDF.ipynb\" target=\"_parent\"><img src=\"https://colab.research.google.com/assets/colab-badge.svg\" alt=\"Open In Colab\"/></a>"
      ]
    },
    {
      "cell_type": "markdown",
      "metadata": {
        "id": "2X7U2w7IebLm"
      },
      "source": [
        "# Trabajo Practico N1\n",
        "# Introduction al Dessarrollo en Python"
      ]
    },
    {
      "cell_type": "markdown",
      "metadata": {
        "id": "kwBfCKCRNyxc"
      },
      "source": [
        "**EJERCICIO 1**\n",
        "\n",
        "Determinar si un numero ingresado por el usuario es PAR"
      ]
    },
    {
      "cell_type": "code",
      "source": [
        "numero=float ( input('ingrese un numero  =   '))\n",
        "if (numero%2)==0:\n",
        "  print('el numero', numero, 'es  par')\n",
        "else:\n",
        "  print('el numero', numero, 'es  impar')"
      ],
      "metadata": {
        "id": "Rbcz64NdLdlp"
      },
      "execution_count": null,
      "outputs": []
    },
    {
      "cell_type": "markdown",
      "metadata": {
        "id": "KKY6JsexOCUy"
      },
      "source": [
        "**EJERCICIO 2**\n",
        "\n",
        "Determinar si un numero ingresado por el usuario esta DENTRO DEL RANGO [1,10] y es par. MUESTRE UN MENSAJE EN CASO CONTRARIO 'NÚMERO FUERA DEL RANGO'"
      ]
    },
    {
      "cell_type": "markdown",
      "source": [
        "***falto verificar si el numero es par***"
      ],
      "metadata": {
        "id": "3mvOIts7Doip"
      }
    },
    {
      "cell_type": "code",
      "source": [
        "numero=int ( input('ingrese un numero  =   '))\n",
        "\n",
        "if (numero<1 or numero>10):\n",
        "  print('el numero', numero, 'esta fuera del rango')\n",
        "else:\n",
        "  print('el numero', numero, 'esta dentro del rango')\n",
        "\n",
        "# pruebo si el numero es menor a 1 o mayor a 10"
      ],
      "metadata": {
        "id": "zT7hmdwphoAG"
      },
      "execution_count": null,
      "outputs": []
    },
    {
      "cell_type": "markdown",
      "metadata": {
        "id": "cfitfYKpQK2O"
      },
      "source": [
        "**EJERCICIO 3 CICLO FOR**\n",
        "\n",
        "\n",
        "Solicitar al usuario que ingrese 10 números. Calcule la suma de todos los números ingresados y  cuente cuántos de ellos son par.\n"
      ]
    },
    {
      "cell_type": "code",
      "source": [
        "par = 0\n",
        "suma = 0\n",
        "contador=1\n",
        "for i in range (10):\n",
        "  print('ingrese el', contador+i,'valor')\n",
        "  numero=int(input())\n",
        "  suma += numero\n",
        "  if (numero%2)==0:\n",
        "   par = par + 1\n",
        "\n",
        "print ('la suma de los valores es = ', suma)\n",
        "print ('la cantidad de numeros pares es = ', par)\n"
      ],
      "metadata": {
        "id": "Qd2RDWY2EOGw"
      },
      "execution_count": null,
      "outputs": []
    },
    {
      "cell_type": "markdown",
      "metadata": {
        "id": "7YyBaMyyRh7I"
      },
      "source": [
        "**EJERCICIOS 4**\n",
        "\n",
        "Mostrar todos los números presentes en el rango [56,1230]\n",
        "Solicitar al usuario que ingrese el rango [a,b] y muestre todos los números pertenecientes a él."
      ]
    },
    {
      "cell_type": "code",
      "source": [
        "x = range(56 ,1230+1)\n",
        "for n in x:\n",
        "  print(n)\n"
      ],
      "metadata": {
        "id": "w_pNa3xmK9As"
      },
      "execution_count": null,
      "outputs": []
    },
    {
      "cell_type": "code",
      "source": [
        "\n",
        "print('ingrese el valor inferior')\n",
        "inferior= int (input())\n",
        "print('ingrese el valor superior')\n",
        "superior= int (input())\n",
        "\n",
        "print ('limite inferior ->', inferior)\n",
        "print ('limite superior ->', superior)\n",
        "\n",
        "x = range(inferior ,superior+1)\n",
        "for n in x:\n",
        "  print(n)\n"
      ],
      "metadata": {
        "id": "cGx7pqdRJ53c"
      },
      "execution_count": null,
      "outputs": []
    },
    {
      "cell_type": "markdown",
      "metadata": {
        "id": "sCYdUm5DOpPk"
      },
      "source": [
        "**EJERCICIO 5 CICLO WHILE**\n",
        "\n",
        "Solicitar al usuario que ingrese un número, si es negativo o nulo , solicitar reiteradamente hasta que ingrese un numero positivo."
      ]
    },
    {
      "cell_type": "markdown",
      "metadata": {
        "id": "yxB31mqka2i3"
      },
      "source": [
        "chicos, si ingresan un dato nulo (vacio), debo usar un while para que vuelva a pedir lo mismo, pero si es un dato no nulo pasa y el valor lo transfomamos en entero,\n",
        "y comparamos si es positivo. Si no lo es hay que pedir otro dato, pero puede ser nulo, entonces habría que hacer todo de nuevo. Por eso llamo en el  **else** a la funcion  **positivo**, para que inicie todo de nuevo.\n",
        "recuerden que para ejecutar una funcion hay que llamarla con su nombre y parentesis. Ejemplo: positivo()"
      ]
    },
    {
      "cell_type": "code",
      "source": [
        "\n",
        "numero = (input('ingrese un numero = '))\n",
        "while (numero=='') or (int (numero)<=0):\n",
        "  numero = (input('ingrese un numero = '))\n",
        "\n",
        "if (int (numero)>0):\n",
        "  print('el numero' ,numero,'es positivo')\n",
        "\n"
      ],
      "metadata": {
        "id": "1SpxHa34iD34"
      },
      "execution_count": null,
      "outputs": []
    },
    {
      "cell_type": "markdown",
      "metadata": {
        "id": "Snkm3EDCSb6n"
      },
      "source": [
        "**EJERCICIO 6**\n",
        "\n",
        "Solicitar al usuario que ingrese un número, si el número es positivo , solicitar reiteradamente hasta que ingrese un numero negativo. Luego mostrar dicho número si es par, en caso contrario mostrar un mensaje 'número ingresado impar'."
      ]
    },
    {
      "cell_type": "code",
      "source": [
        "def si_par_impar (valor):\n",
        " if (int (valor)%2)==0:\n",
        "  print ('el numero ',valor,'es par')\n",
        " else:\n",
        "  print ('el numero',valor,'es impar')\n",
        "\n",
        "numero = (input('ingrese un numero = '))\n",
        "while (numero=='') or (int (numero)>=0):\n",
        "  numero = (input('ingrese un numero = '))\n",
        "\n",
        "if (int (numero)<0):\n",
        "  si_par_impar(numero)\n"
      ],
      "metadata": {
        "id": "ybxjVonXI8sr"
      },
      "execution_count": null,
      "outputs": []
    },
    {
      "cell_type": "markdown",
      "metadata": {
        "id": "sypNigFYS3iU"
      },
      "source": [
        "**EJERCICIO 7 VECTORES CON CICLO FOR**\n",
        "\n",
        "Solicitar al usuario que ingrese la cantidad de elementos del vector.\n",
        "Ingresar cada elemento del vector y calcular su promedio.AYUDA: EL PROMEDIO ES LA SUMA DE TODOS LOS NÚMEROS DIVIDO LA CANTIDAD TOTAL.\n",
        "Mostrar el vector."
      ]
    },
    {
      "cell_type": "code",
      "source": [
        "numero=[]\n",
        "suma=0\n",
        "contador=1\n",
        "\n",
        "print('ingrese la longitud del vector' )\n",
        "rango = int (input())\n",
        "for i in range(rango):\n",
        "  print('ingrese el', contador+i,'° valor')\n",
        "  numero.append(int (input()))\n",
        "\n",
        "for valor in numero:\n",
        "    suma = suma + valor\n",
        "\n",
        "print('el promedio del vector ', numero , 'de longitud ', len(numero),' es' ,suma/len(numero))"
      ],
      "metadata": {
        "id": "S9v1jLEDI9QS"
      },
      "execution_count": null,
      "outputs": []
    },
    {
      "cell_type": "markdown",
      "metadata": {
        "id": "W15_ajQyULBo"
      },
      "source": [
        "**EJERCICIO 8 LISTA CON CICLO FOR**\n",
        "\n",
        "Solicitar a 10 usuario que ingresen los siguientes datos en el formato lista.\n",
        "\n",
        "['NOMBRE','APELLIDO', 'DNI','GASTOS MENSUALES DE HOGAR']\n",
        "\n",
        "Ingresar el final de la lista los siguientes usuarios:\n",
        "\n",
        "['ESTEBAN','LOPEZ', '45675400','190800.80']\n",
        "\n",
        "['NOELIA','ALEJA', '46906875','85900.50']\n",
        "\n",
        "Mostrar el vector.\n",
        "Eliminar el primer usuario de la lista."
      ]
    },
    {
      "cell_type": "markdown",
      "metadata": {
        "id": "vHZ23eGsrJe-"
      },
      "source": [
        "para probar como funciona cambien en el for el 10 por 2 y ejecuten ingrese los datos que le pidan y al terminar todo vuelvan a poner 10 en el for"
      ]
    },
    {
      "cell_type": "code",
      "source": [
        "# rellenar los valores pedidos mediante ingreso desde teclado\n",
        "todo=[]\n",
        "nombre=[]\n",
        "apellido=[]\n",
        "dni=[]\n",
        "gasto=[]\n",
        "\n",
        "rango = 2 # modificar de acuerdo a los valores que se quieran leer\n",
        "\n",
        "for i in range(rango):\n",
        "\n",
        "  nombre.append( input('ingrese el nombre '))\n",
        "  apellido.append( input('ingrese el apellido '))\n",
        "  dni.append( input('ingrese el dni '))\n",
        "  gasto.append( input('ingrese el gasto mensual '))\n",
        "\n",
        "todo = list(zip(nombre, apellido, dni,gasto))  # uno las listas creadas en una sola\n",
        "print(todo)\n"
      ],
      "metadata": {
        "id": "DBo4ZArxJABS",
        "colab": {
          "base_uri": "https://localhost:8080/"
        },
        "outputId": "6ba09c1f-4a11-40e8-af3a-bd178a4643a4"
      },
      "execution_count": null,
      "outputs": [
        {
          "output_type": "stream",
          "name": "stdout",
          "text": [
            "ingrese el nombre 1\n",
            "ingrese el apellido 1\n",
            "ingrese el dni 1\n",
            "ingrese el gasto mensual 1\n",
            "ingrese el nombre 2\n",
            "ingrese el apellido 2\n",
            "ingrese el dni 2\n",
            "ingrese el gasto mensual 2\n",
            "[('1', '1', '1', '1'), ('2', '2', '2', '2')]\n"
          ]
        }
      ]
    },
    {
      "cell_type": "code",
      "source": [
        "# rellenar los valores pedidos mediante ingreso desde teclado y agregar dos registros mas\n",
        "todo=[]\n",
        "nombre=[]\n",
        "apellido=[]\n",
        "dni=[]\n",
        "gasto=[]\n",
        "\n",
        "rango = 2 # modificar de acuerdo a los valores que se quieran leer\n",
        "\n",
        "for i in range(rango):\n",
        "\n",
        "  nombre.append( input('ingrese el nombre '))\n",
        "  apellido.append( input('ingrese el apellido '))\n",
        "  dni.append( input('ingrese el dni '))\n",
        "  gasto.append( input('ingrese el gasto mensual '))\n",
        "\n",
        "todo = list(zip(nombre, apellido, dni,gasto))  # uno las listas creadas en una sola\n",
        "print(todo)\n",
        "nombre.append('noelia')\n",
        "apellido.append('aleja')\n",
        "dni.append('46906875')\n",
        "gasto.append('85900.50 ')\n",
        "nombre.append('ESTEBAN')\n",
        "apellido.append('LOPEZ')\n",
        "dni.append('45675400')\n",
        "gasto.append('190800.80')\n",
        "\n",
        "todo = list(zip(nombre, apellido, dni,gasto))\n",
        "print(todo)\n"
      ],
      "metadata": {
        "colab": {
          "base_uri": "https://localhost:8080/"
        },
        "id": "DI2KdQyixurh",
        "outputId": "af5b214d-b5f9-456c-aa31-7563b42902c0"
      },
      "execution_count": null,
      "outputs": [
        {
          "output_type": "stream",
          "name": "stdout",
          "text": [
            "ingrese el nombre 1\n",
            "ingrese el apellido 1\n",
            "ingrese el dni 1\n",
            "ingrese el gasto mensual 1\n",
            "ingrese el nombre 2\n",
            "ingrese el apellido 2\n",
            "ingrese el dni 2\n",
            "ingrese el gasto mensual 2\n",
            "[('1', '1', '1', '1'), ('2', '2', '2', '2')]\n",
            "[('1', '1', '1', '1'), ('2', '2', '2', '2'), ('noelia', 'aleja', '46906875', '85900.50 '), ('ESTEBAN', 'LOPEZ', '45675400', '190800.80')]\n"
          ]
        }
      ]
    },
    {
      "cell_type": "code",
      "source": [
        "# rellenar los valores pedidos mediante ingreso desde teclado y agregar dos registros mas, eliminar el primero de la lista\n",
        "todo=[]\n",
        "nombre=[]\n",
        "apellido=[]\n",
        "dni=[]\n",
        "gasto=[]\n",
        "\n",
        "rango = 2 # modificar de acuerdo a los valores que se quieran leer\n",
        "\n",
        "for i in range(rango):\n",
        "\n",
        "  nombre.append( input('ingrese el nombre '))\n",
        "  apellido.append( input('ingrese el apellido '))\n",
        "  dni.append( input('ingrese el dni '))\n",
        "  gasto.append( input('ingrese el gasto mensual '))\n",
        "\n",
        "todo = list(zip(nombre, apellido, dni,gasto))  # uno las listas creadas en una sola\n",
        "print(todo)\n",
        "nombre.append('noelia')\n",
        "apellido.append('aleja')\n",
        "dni.append('46906875')\n",
        "gasto.append('85900.50 ')\n",
        "nombre.append('ESTEBAN')\n",
        "apellido.append('LOPEZ')\n",
        "dni.append('45675400')\n",
        "gasto.append('190800.80')\n",
        "\n",
        "todo = list(zip(nombre, apellido, dni,gasto))\n",
        "print(todo)\n",
        "\n",
        "todo.pop(0)\n",
        "print(todo)"
      ],
      "metadata": {
        "colab": {
          "base_uri": "https://localhost:8080/",
          "height": 396
        },
        "outputId": "36631cbc-1b4c-41e6-8483-2b0b7ae08133",
        "id": "oINpAbWNzOYx"
      },
      "execution_count": null,
      "outputs": [
        {
          "output_type": "error",
          "ename": "KeyboardInterrupt",
          "evalue": "ignored",
          "traceback": [
            "\u001b[0;31m---------------------------------------------------------------------------\u001b[0m",
            "\u001b[0;31mKeyboardInterrupt\u001b[0m                         Traceback (most recent call last)",
            "\u001b[0;32m<ipython-input-1-7b7920856819>\u001b[0m in \u001b[0;36m<cell line: 10>\u001b[0;34m()\u001b[0m\n\u001b[1;32m     10\u001b[0m \u001b[0;32mfor\u001b[0m \u001b[0mi\u001b[0m \u001b[0;32min\u001b[0m \u001b[0mrange\u001b[0m\u001b[0;34m(\u001b[0m\u001b[0mrango\u001b[0m\u001b[0;34m)\u001b[0m\u001b[0;34m:\u001b[0m\u001b[0;34m\u001b[0m\u001b[0;34m\u001b[0m\u001b[0m\n\u001b[1;32m     11\u001b[0m \u001b[0;34m\u001b[0m\u001b[0m\n\u001b[0;32m---> 12\u001b[0;31m   \u001b[0mnombre\u001b[0m\u001b[0;34m.\u001b[0m\u001b[0mappend\u001b[0m\u001b[0;34m(\u001b[0m \u001b[0minput\u001b[0m\u001b[0;34m(\u001b[0m\u001b[0;34m'ingrese el nombre '\u001b[0m\u001b[0;34m)\u001b[0m\u001b[0;34m)\u001b[0m\u001b[0;34m\u001b[0m\u001b[0;34m\u001b[0m\u001b[0m\n\u001b[0m\u001b[1;32m     13\u001b[0m   \u001b[0mapellido\u001b[0m\u001b[0;34m.\u001b[0m\u001b[0mappend\u001b[0m\u001b[0;34m(\u001b[0m \u001b[0minput\u001b[0m\u001b[0;34m(\u001b[0m\u001b[0;34m'ingrese el apellido '\u001b[0m\u001b[0;34m)\u001b[0m\u001b[0;34m)\u001b[0m\u001b[0;34m\u001b[0m\u001b[0;34m\u001b[0m\u001b[0m\n\u001b[1;32m     14\u001b[0m   \u001b[0mdni\u001b[0m\u001b[0;34m.\u001b[0m\u001b[0mappend\u001b[0m\u001b[0;34m(\u001b[0m \u001b[0minput\u001b[0m\u001b[0;34m(\u001b[0m\u001b[0;34m'ingrese el dni '\u001b[0m\u001b[0;34m)\u001b[0m\u001b[0;34m)\u001b[0m\u001b[0;34m\u001b[0m\u001b[0;34m\u001b[0m\u001b[0m\n",
            "\u001b[0;32m/usr/local/lib/python3.10/dist-packages/ipykernel/kernelbase.py\u001b[0m in \u001b[0;36mraw_input\u001b[0;34m(self, prompt)\u001b[0m\n\u001b[1;32m    849\u001b[0m                 \u001b[0;34m\"raw_input was called, but this frontend does not support input requests.\"\u001b[0m\u001b[0;34m\u001b[0m\u001b[0;34m\u001b[0m\u001b[0m\n\u001b[1;32m    850\u001b[0m             )\n\u001b[0;32m--> 851\u001b[0;31m         return self._input_request(str(prompt),\n\u001b[0m\u001b[1;32m    852\u001b[0m             \u001b[0mself\u001b[0m\u001b[0;34m.\u001b[0m\u001b[0m_parent_ident\u001b[0m\u001b[0;34m,\u001b[0m\u001b[0;34m\u001b[0m\u001b[0;34m\u001b[0m\u001b[0m\n\u001b[1;32m    853\u001b[0m             \u001b[0mself\u001b[0m\u001b[0;34m.\u001b[0m\u001b[0m_parent_header\u001b[0m\u001b[0;34m,\u001b[0m\u001b[0;34m\u001b[0m\u001b[0;34m\u001b[0m\u001b[0m\n",
            "\u001b[0;32m/usr/local/lib/python3.10/dist-packages/ipykernel/kernelbase.py\u001b[0m in \u001b[0;36m_input_request\u001b[0;34m(self, prompt, ident, parent, password)\u001b[0m\n\u001b[1;32m    893\u001b[0m             \u001b[0;32mexcept\u001b[0m \u001b[0mKeyboardInterrupt\u001b[0m\u001b[0;34m:\u001b[0m\u001b[0;34m\u001b[0m\u001b[0;34m\u001b[0m\u001b[0m\n\u001b[1;32m    894\u001b[0m                 \u001b[0;31m# re-raise KeyboardInterrupt, to truncate traceback\u001b[0m\u001b[0;34m\u001b[0m\u001b[0;34m\u001b[0m\u001b[0m\n\u001b[0;32m--> 895\u001b[0;31m                 \u001b[0;32mraise\u001b[0m \u001b[0mKeyboardInterrupt\u001b[0m\u001b[0;34m(\u001b[0m\u001b[0;34m\"Interrupted by user\"\u001b[0m\u001b[0;34m)\u001b[0m \u001b[0;32mfrom\u001b[0m \u001b[0;32mNone\u001b[0m\u001b[0;34m\u001b[0m\u001b[0;34m\u001b[0m\u001b[0m\n\u001b[0m\u001b[1;32m    896\u001b[0m             \u001b[0;32mexcept\u001b[0m \u001b[0mException\u001b[0m \u001b[0;32mas\u001b[0m \u001b[0me\u001b[0m\u001b[0;34m:\u001b[0m\u001b[0;34m\u001b[0m\u001b[0;34m\u001b[0m\u001b[0m\n\u001b[1;32m    897\u001b[0m                 \u001b[0mself\u001b[0m\u001b[0;34m.\u001b[0m\u001b[0mlog\u001b[0m\u001b[0;34m.\u001b[0m\u001b[0mwarning\u001b[0m\u001b[0;34m(\u001b[0m\u001b[0;34m\"Invalid Message:\"\u001b[0m\u001b[0;34m,\u001b[0m \u001b[0mexc_info\u001b[0m\u001b[0;34m=\u001b[0m\u001b[0;32mTrue\u001b[0m\u001b[0;34m)\u001b[0m\u001b[0;34m\u001b[0m\u001b[0;34m\u001b[0m\u001b[0m\n",
            "\u001b[0;31mKeyboardInterrupt\u001b[0m: Interrupted by user"
          ]
        }
      ]
    },
    {
      "cell_type": "markdown",
      "metadata": {
        "id": "5x1DqNkpTWzi"
      },
      "source": [
        "**EJERCICIO 9 LISTA CON CICLO FOR**\n",
        "\n",
        "Buscar en la web los datos pablacionales de todas las provicias de Argentina , generando una lista con los siguiente información.\n",
        "\n",
        "['PROVINCIA','CANTIDAD DE HABITANTES', 'CONSUMO ELECTRICO PER CAPITA','SUPERFICIE EN M^2']\n",
        "\n",
        "\n",
        "\n",
        "Mostrar TODOS LOS DATOS DEL LISTADO.\n",
        "\n"
      ]
    },
    {
      "cell_type": "markdown",
      "metadata": {
        "id": "i-vHT64rNKKA"
      },
      "source": []
    },
    {
      "cell_type": "code",
      "source": [
        "\n",
        "provincias=['CABA','Buenos Aires','Catamarca','Chaco','Chubut','Córdoba','Corrientes','Entre Ríos',\n",
        "             'Formosa','Jujuy','La Pampa','La Rioja','Mendoza','Misiones','Neuquén','Río Negro','Salta',\n",
        "             'San Juan','San Luis','Santa Cruz','Santa Fe','Santiago del Estero','Tierra del Fuego', 'Antártida e Islas del Atlántico Sur','Tucumán']\n",
        "\n",
        "poblacion=['3.120.612','17.569.053','429.556','1.142.963','603.120','3.978.984','1.197.553',\n",
        "            '1.426.426','606.041','797.955','366.022','384.607','2.014.533','1.280.960','726.590','762.067',\n",
        "            '1.440.672','818.234','540.905','333.473','3.556.522','1.054.028','190.641','0','1.703.186']\n",
        "\n",
        "superficie=['205,9','305.907,40','101.486,10','99.763,30','224.302,30','164.707,80','89.123,30',\n",
        "            '78.383,70','75.488,30','53.244,20','143.492,50','91.493,70','149.069,20','29.911,40','94.422','202.168,60',\n",
        "            '155.340,50','88.296,20','75.34710','244.457,50','133.249,10','136.934,30','910.324,40','0','22.592,10']\n",
        "\n",
        "consumoMWH=['134.627.352','10.984.442','57.271.787','1.337.032','3.045.380','1.646.029','10.606.601','2.997.612',\n",
        "            '3.906.353','1.388.311','1.136.336','915.781','1.572.290','5.652.519','2.845.762','1.834.879','1.984.782',\n",
        "            '2.214.796','2.381.940','1.780.881','1.025.648','13.078.203','1.811.277','0','3.208.711']\n",
        "\n",
        "Datos= list(zip(provincias, poblacion, consumoMWH,superficie))\n",
        "print(*Datos, sep = \"\\n\")\n",
        "print( len(Datos))\n",
        "\n",
        "print( len(provincias))\n",
        "print ( len(poblacion))\n",
        "print ( len(superficie))\n",
        "print (len(consumoMWH))\n",
        "print('')\n",
        "print('')\n",
        "print('------------------------------------------------------ ')\n",
        "print('Otra forma de mostrar las listas ')\n",
        "print('------------------------------------------------------ ')\n",
        "print('provincias', 'poblacion' ,'superficie', 'consumoMWH')\n",
        "for provincias, poblacion , superficie, consumoMWH in zip(provincias, poblacion, superficie,consumoMWH):\n",
        "    print(provincias, poblacion , superficie, consumoMWH)\n",
        "\n"
      ],
      "metadata": {
        "id": "FIi4lRU-JBSS",
        "colab": {
          "base_uri": "https://localhost:8080/"
        },
        "outputId": "aba57b0a-a009-4831-9e37-2724e48f9ac1"
      },
      "execution_count": null,
      "outputs": [
        {
          "output_type": "stream",
          "name": "stdout",
          "text": [
            "('CABA', '3.120.612', '134.627.352', '205,9')\n",
            "('Buenos Aires', '17.569.053', '10.984.442', '305.907,40')\n",
            "('Catamarca', '429.556', '57.271.787', '101.486,10')\n",
            "('Chaco', '1.142.963', '1.337.032', '99.763,30')\n",
            "('Chubut', '603.120', '3.045.380', '224.302,30')\n",
            "('Córdoba', '3.978.984', '1.646.029', '164.707,80')\n",
            "('Corrientes', '1.197.553', '10.606.601', '89.123,30')\n",
            "('Entre Ríos', '1.426.426', '2.997.612', '78.383,70')\n",
            "('Formosa', '606.041', '3.906.353', '75.488,30')\n",
            "('Jujuy', '797.955', '1.388.311', '53.244,20')\n",
            "('La Pampa', '366.022', '1.136.336', '143.492,50')\n",
            "('La Rioja', '384.607', '915.781', '91.493,70')\n",
            "('Mendoza', '2.014.533', '1.572.290', '149.069,20')\n",
            "('Misiones', '1.280.960', '5.652.519', '29.911,40')\n",
            "('Neuquén', '726.590', '2.845.762', '94.422')\n",
            "('Río Negro', '762.067', '1.834.879', '202.168,60')\n",
            "('Salta', '1.440.672', '1.984.782', '155.340,50')\n",
            "('San Juan', '818.234', '2.214.796', '88.296,20')\n",
            "('San Luis', '540.905', '2.381.940', '75.34710')\n",
            "('Santa Cruz', '333.473', '1.780.881', '244.457,50')\n",
            "('Santa Fe', '3.556.522', '1.025.648', '133.249,10')\n",
            "('Santiago del Estero', '1.054.028', '13.078.203', '136.934,30')\n",
            "('Tierra del Fuego', '190.641', '1.811.277', '910.324,40')\n",
            "('Antártida e Islas del Atlántico Sur', '0', '0', '0')\n",
            "('Tucumán', '1.703.186', '3.208.711', '22.592,10')\n",
            "25\n",
            "25\n",
            "25\n",
            "25\n",
            "25\n",
            "\n",
            "\n",
            "------------------------------------------------------ \n",
            "Otra forma de mostrar las listas \n",
            "------------------------------------------------------ \n",
            "provincias poblacion superficie consumoMWH\n",
            "CABA 3.120.612 205,9 134.627.352\n",
            "Buenos Aires 17.569.053 305.907,40 10.984.442\n",
            "Catamarca 429.556 101.486,10 57.271.787\n",
            "Chaco 1.142.963 99.763,30 1.337.032\n",
            "Chubut 603.120 224.302,30 3.045.380\n",
            "Córdoba 3.978.984 164.707,80 1.646.029\n",
            "Corrientes 1.197.553 89.123,30 10.606.601\n",
            "Entre Ríos 1.426.426 78.383,70 2.997.612\n",
            "Formosa 606.041 75.488,30 3.906.353\n",
            "Jujuy 797.955 53.244,20 1.388.311\n",
            "La Pampa 366.022 143.492,50 1.136.336\n",
            "La Rioja 384.607 91.493,70 915.781\n",
            "Mendoza 2.014.533 149.069,20 1.572.290\n",
            "Misiones 1.280.960 29.911,40 5.652.519\n",
            "Neuquén 726.590 94.422 2.845.762\n",
            "Río Negro 762.067 202.168,60 1.834.879\n",
            "Salta 1.440.672 155.340,50 1.984.782\n",
            "San Juan 818.234 88.296,20 2.214.796\n",
            "San Luis 540.905 75.34710 2.381.940\n",
            "Santa Cruz 333.473 244.457,50 1.780.881\n",
            "Santa Fe 3.556.522 133.249,10 1.025.648\n",
            "Santiago del Estero 1.054.028 136.934,30 13.078.203\n",
            "Tierra del Fuego 190.641 910.324,40 1.811.277\n",
            "Antártida e Islas del Atlántico Sur 0 0 0\n",
            "Tucumán 1.703.186 22.592,10 3.208.711\n"
          ]
        }
      ]
    },
    {
      "cell_type": "markdown",
      "metadata": {
        "id": "SVaFh43fTwt3"
      },
      "source": [
        "**EJERCICIO 10 LISTAS**\n",
        "\n",
        "Crear una lista con información de estudianes de un colegio donde incluya los siguientes items:\n",
        "\n",
        "\n",
        "*   curso y división del aula del alumno\n",
        "*   nombre y apellidos\n",
        "*   DNI\n",
        "*   cantidad de notas en el primer trimestre\n",
        "*   INGRESAR CADA UNA DE ESAS NOTAS, POR EL USUARIO\n",
        "*   promedio del trimestre\n",
        "\n",
        "Mostrar todos los nombres y apellidos de los  alumnos\n",
        "\n",
        "Mostrar los alumnos con promedio mayor o igual a 6\n",
        "\n",
        "\n"
      ]
    },
    {
      "cell_type": "code",
      "source": [
        "#------------------------------------------------------------------------\n",
        "#\n",
        "#------------------------------------------------------------------------\n",
        "\n",
        "# rellenar los valores pedidos mediante ingreso desde teclado\n",
        "todo=[]\n",
        "curso=[]\n",
        "division=[]\n",
        "nombre=[]\n",
        "apellido=[]\n",
        "notas=[]\n",
        "promedio=[]\n",
        "suma=0\n",
        "prom=0\n",
        "#-------------------------------------------------------------------\n",
        "cant_notas = 0 #para el for\n",
        "rango = 2 # modificar de acuerdo a los valores que se quieran leer\n",
        "#-------------------------------------------------------------------\n",
        "for i in range(rango):\n",
        "  curso.append( input('ingrese el curso '))\n",
        "  division.append( input('ingrese el division '))\n",
        "  nombre.append( input('ingrese el nombre '))\n",
        "  apellido.append( input('ingrese el apellido '))\n",
        "  cant_notas=( input('ingrese cantidad de notas a cargar '))\n",
        "  prom=0 # limpio la variable\n",
        "  suma=0 # limpio la variable\n",
        " #--- lectura de las notas -----------------------------------------\n",
        "  for j in range(int(cant_notas)):\n",
        "    print('ingrese la',j+1,'° nota')\n",
        "    nota=input()\n",
        "    #notas.append(nota)                #adjunto las notas en la lista/no es necesario para la lista todo\n",
        "    suma=int(nota)+suma\n",
        "    #print('suma',suma)\n",
        "    #print('cant notas',cant_notas)\n",
        "    prom=int(suma)/(int(cant_notas))  # calculo del promedio\n",
        "  #print ('prom',prom)\n",
        "  promedio.append(prom)\n",
        "\n",
        "#-------------------MUESTRO TODO LO QUE SE CARGO----------------------------------------------------------\n",
        "#print(notas)\n",
        "todo =  list (zip(curso, division, nombre, apellido,promedio))  # uno las listas creadas en una sola\n",
        "#print(*todo, sep = \"\\n\")  # forma vertical forma de columna separada por NL\n",
        "#print(todo)                # forma horizontal todo junto\n",
        "#---------------------------------------------------------------------------------------------------------\n",
        "\n",
        "\n",
        "#----------------------ACA MUESTRO SOLO LOS PROMEDIOS MAYORES A 6-----------------------------------------\n",
        "for i in range(len(todo)):\n",
        "  prome=todo[i][4]\n",
        "  #print(prome )\n",
        "  if (prome >= 6 ):\n",
        "   print('el alumno',todo[i][2],todo[i][3],'del curso',todo[i][0],'°',todo[i][1],'°','tiene un promedio de',todo[i][4])\n",
        "\n"
      ],
      "metadata": {
        "id": "D1wISWK1JB5C",
        "colab": {
          "base_uri": "https://localhost:8080/"
        },
        "outputId": "e51d9367-f286-4d0f-ef04-17637335f3d4"
      },
      "execution_count": null,
      "outputs": [
        {
          "output_type": "stream",
          "name": "stdout",
          "text": [
            "ingrese el curso 1\n",
            "ingrese el division 1\n",
            "ingrese el nombre juam\n",
            "ingrese el apellido perez\n",
            "ingrese cantidad de notas a cargar 1\n",
            "ingrese la  1 ° nota\n",
            "5\n",
            "ingrese el curso 1\n",
            "ingrese el division 1\n",
            "ingrese el nombre luis\n",
            "ingrese el apellido lopez\n",
            "ingrese cantidad de notas a cargar 1\n",
            "ingrese la  1 ° nota\n",
            "6\n",
            "el alumno luis lopez del curso 1 ° 1 ° tiene un promedio de 6.0\n"
          ]
        }
      ]
    }
  ],
  "metadata": {
    "colab": {
      "provenance": [],
      "include_colab_link": true
    },
    "kernelspec": {
      "display_name": "Python 3",
      "name": "python3"
    },
    "language_info": {
      "name": "python"
    }
  },
  "nbformat": 4,
  "nbformat_minor": 0
}