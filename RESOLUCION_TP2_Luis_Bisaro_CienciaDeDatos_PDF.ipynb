{
  "cells": [
    {
      "cell_type": "markdown",
      "metadata": {
        "id": "view-in-github",
        "colab_type": "text"
      },
      "source": [
        "<a href=\"https://colab.research.google.com/github/luisbisaro/pandas.datasets/blob/main/RESOLUCION_TP2_Luis_Bisaro_CienciaDeDatos_PDF.ipynb\" target=\"_parent\"><img src=\"https://colab.research.google.com/assets/colab-badge.svg\" alt=\"Open In Colab\"/></a>"
      ]
    },
    {
      "cell_type": "markdown",
      "metadata": {
        "id": "1qK5hGNp-o6o"
      },
      "source": [
        "# Introducción a NumPy\n",
        "\n",
        "\n",
        "\n",
        "\n",
        "Este Práctico proporciona una introducción básica a NumPy, destacando algunas de sus características clave y mostrando ejemplos de su uso. A continuación tendrán un resúmen de algunos comando y su implementación. Esto servirá de guia para desarrollar las actividades propuestas a continuación."
      ],
      "id": "1qK5hGNp-o6o"
    },
    {
      "cell_type": "markdown",
      "metadata": {
        "id": "EhfjWsse-o6r"
      },
      "source": [
        "## Comparación entre uso de vectores de Python y NumPy\n",
        "A continuación se presentan varios aspectos para poder comparar la implementación de vectores a través del tipo de datos LISTA , comparado con la implementación de vectores con NumPy:"
      ],
      "id": "EhfjWsse-o6r"
    },
    {
      "cell_type": "markdown",
      "metadata": {
        "id": "c294f2JK-o6s"
      },
      "source": [
        "#### 1- Creación de vectores\n",
        "\n",
        "En esta celda, se importa la biblioteca NumPy y se **CREA UN VECTOR** utilizando Python puro y NumPy. Luego, se imprime cada uno de los vectores."
      ],
      "id": "c294f2JK-o6s"
    },
    {
      "cell_type": "code",
      "execution_count": null,
      "metadata": {
        "id": "_HV2dLLF-o6s",
        "colab": {
          "base_uri": "https://localhost:8080/"
        },
        "outputId": "6ea4ad3f-6bc4-4686-9b59-ed03d70fcfda"
      },
      "outputs": [
        {
          "output_type": "stream",
          "name": "stdout",
          "text": [
            "Vector en Python puro: [1, 2, 3, 4, 5]\n",
            "Vector en NumPy: [1.  2.  3.5 4.  5. ]\n"
          ]
        }
      ],
      "source": [
        "import numpy as np\n",
        "vector_py = [1, 2, 3, 4, 5]\n",
        "vector_np = np.array([1, 2, 3.5, 4, 5])\n",
        "print(\"Vector en Python puro:\", vector_py)\n",
        "print(\"Vector en NumPy:\", vector_np)"
      ],
      "id": "_HV2dLLF-o6s"
    },
    {
      "cell_type": "markdown",
      "metadata": {
        "id": "dMFB7By3-o6t"
      },
      "source": [
        "#### 2- Operaciones matemáticas\n",
        "En esta celda, se realizan operaciones matemáticas en un vector utilizando Python puro y NumPy. Luego, se imprime el resultado de cada operación."
      ],
      "id": "dMFB7By3-o6t"
    },
    {
      "cell_type": "code",
      "execution_count": null,
      "metadata": {
        "colab": {
          "base_uri": "https://localhost:8080/"
        },
        "id": "fu-4G2Ut-o6t",
        "outputId": "7e71551c-ca4e-4b73-cb1b-fc67cd2d91b8"
      },
      "outputs": [
        {
          "output_type": "execute_result",
          "data": {
            "text/plain": [
              "[1, 2, 3, 4, 5, 1, 2, 3, 4, 5]"
            ]
          },
          "metadata": {},
          "execution_count": 42
        }
      ],
      "source": [
        "vector_py = [1, 2, 3, 4, 5]\n",
        "vector_np = np.array([1, 2, 3, 4, 5])\n",
        "suma_py = [x + 2 for x in vector_py]\n",
        "suma_np = vector_np *2\n",
        "#print(\"Suma en Python puro:\", suma_py)\n",
        "#print(\"Suma en NumPy:\", suma_np)\n",
        "vector_py*2"
      ],
      "id": "fu-4G2Ut-o6t"
    },
    {
      "cell_type": "markdown",
      "metadata": {
        "id": "zNYiFFjG-o6u"
      },
      "source": [
        "#### 3- Indexado y segmentación\n",
        "En esta celda, se realiza el indexado y segmentación en un vector utilizando Python puro y NumPy. Luego, se imprime el resultado de cada operación."
      ],
      "id": "zNYiFFjG-o6u"
    },
    {
      "cell_type": "code",
      "execution_count": null,
      "metadata": {
        "colab": {
          "base_uri": "https://localhost:8080/"
        },
        "id": "c-PIchEg-o6u",
        "outputId": "f93ed647-13e4-4f8e-ac0c-96a28412b8ac"
      },
      "outputs": [
        {
          "output_type": "stream",
          "name": "stdout",
          "text": [
            "Segmento en Python puro: [2, 3, 4]\n",
            "Segmento en NumPy: [2 3 4]\n"
          ]
        }
      ],
      "source": [
        "vector_py = [1, 2, 3, 4, 5]\n",
        "vector_np = np.array([1, 2, 3, 4, 5])\n",
        "segmento_py = vector_py[1:4]\n",
        "segmento_np = vector_np[1:4]\n",
        "print(\"Segmento en Python puro:\", segmento_py)\n",
        "print(\"Segmento en NumPy:\", segmento_np)"
      ],
      "id": "c-PIchEg-o6u"
    },
    {
      "cell_type": "markdown",
      "metadata": {
        "id": "v5GzRhOK-o6v"
      },
      "source": [
        "## Operaciones entre vectores y funciones sobre vectores\n",
        "A continuación se presentan algunos ejemplos de operaciones básicas entre vectores utilizando NumPy:"
      ],
      "id": "v5GzRhOK-o6v"
    },
    {
      "cell_type": "markdown",
      "metadata": {
        "id": "KE93Crg_-o6v"
      },
      "source": [
        "#### Suma de vectores\n",
        "En esta celda, se crea un vector 'vector_a' y un vector 'vector_b', y se realiza la suma de ambos vectores utilizando NumPy. Luego, se imprime el resultado."
      ],
      "id": "KE93Crg_-o6v"
    },
    {
      "cell_type": "code",
      "execution_count": null,
      "metadata": {
        "id": "rAzW3AvC-o6v",
        "colab": {
          "base_uri": "https://localhost:8080/"
        },
        "outputId": "5985952d-df68-41e0-c2f0-207f5a96d76f"
      },
      "outputs": [
        {
          "output_type": "stream",
          "name": "stdout",
          "text": [
            "Suma de vectores: [5 7 9]\n"
          ]
        }
      ],
      "source": [
        "vector_a = np.array([1, 2, 3])\n",
        "vector_b = np.array([4, 5, 6])\n",
        "suma_vector = vector_a + vector_b\n",
        "print(\"Suma de vectores:\", suma_vector)"
      ],
      "id": "rAzW3AvC-o6v"
    },
    {
      "cell_type": "markdown",
      "source": [
        "# ***EJERCICIOS PARTE 1***\n",
        "\n",
        "***EJERCICIO 1:***\n",
        "\n",
        "Dada la siguiente tabla (matriz) de datos, donde cada fila representa la cantidad que se vendio en referencia a un solo producto durante toda la semana; mientras que cada columna representa la venta total en un dia de la semana.Obtener la siguiente información detallada:\n",
        "\n",
        "\n",
        "*   Importe total de la venta por cada dia de la semana\n",
        "*   Importe total de la venta por cada producto en la semana\n",
        "*   Importe total de la venta en toda la semana\n",
        "\n"
      ],
      "metadata": {
        "id": "m8wTYxHe6TwA"
      },
      "id": "m8wTYxHe6TwA"
    },
    {
      "cell_type": "code",
      "execution_count": null,
      "metadata": {
        "colab": {
          "base_uri": "https://localhost:8080/"
        },
        "id": "djSElJbA4fVb",
        "outputId": "7bd543ef-6501-4cdc-d213-2b62d4b866e5"
      },
      "outputs": [
        {
          "output_type": "stream",
          "name": "stdout",
          "text": [
            "Matriz de ventas diarias:\n",
            "[[20 15 25 30 18 22 24]\n",
            " [12 20 14  8 15 18 16]\n",
            " [35 28 32 30 26 24 30]\n",
            " [40 38 45 42 39 41 37]]\n",
            "la venta del dia Lun es de 107\n",
            "la venta del dia Mar es de 101\n",
            "la venta del dia Mie es de 116\n",
            "la venta del dia Jue es de 110\n",
            "la venta del dia Vie es de 98\n",
            "la venta del dia Sab es de 105\n",
            "la venta del dia Dom es de 107\n",
            "la cantidad vendida del Producto A en la primera semana fue de 154\n",
            "la cantidad vendida del Producto B en la segunda semana fue de 103\n",
            "la cantidad vendida del Producto C en la tercera semana fue de 205\n",
            "la cantidad vendida del Producto D en la cuarta semana fue de 282\n",
            "La cantidad total de productos vendidos en la semana es de = 744\n"
          ]
        }
      ],
      "source": [
        "###################################oks##########################################\n",
        "import numpy as np\n",
        "\n",
        "# Datos de ventas diarias de 4 productos durante una semana\n",
        "\n",
        "ventas_diarias = np.array(\n",
        "    #Lun,Mar,Mie,Jue,Vie,Sab,Dom\n",
        "    [[20, 15, 25, 30, 18, 22, 24],  #Producto A\n",
        "    [12, 20, 14, 8, 15, 18, 16],    #Producto B\n",
        "    [35, 28, 32, 30, 26, 24, 30],   #Producto C\n",
        "    [40, 38, 45, 42, 39, 41, 37]    #Producto D\n",
        "    ]\n",
        ")\n",
        "print(\"Matriz de ventas diarias:\")\n",
        "print(ventas_diarias)\n",
        "#print(np.shape(ventas_diarias))\n",
        "#---------------------------------------------------------------------------\n",
        "\n",
        "\n",
        "#---------------------------------------------------------------------------\n",
        "#Importe total de la venta diaria\n",
        "#---------------------------------------------------------------------------\n",
        "dia=['Lun','Mar','Mie','Jue','Vie','Sab','Dom']\n",
        "ventas_por_dia = np.sum(ventas_diarias, axis=0)\n",
        "#print(\"Total de ventas por día:\",ventas_por_dia)\n",
        "#print(np.shape(ventas_por_dia))\n",
        "for i in range(len(ventas_por_dia)):\n",
        " print('la venta del dia',dia[i],'es de', ventas_por_dia[i])\n",
        "\n",
        "#---------------------------------------------------------------------------\n",
        "#Cantidad de cada producto por semana\n",
        "#---------------------------------------------------------------------------\n",
        "semana=['primera','segunda','tercera','cuarta']\n",
        "producto=['Producto A','Producto B','Producto C','Producto D']\n",
        "#Importe total de la venta por cada producto en la semana\n",
        "nProductoT = np.sum(ventas_diarias, axis=1)\n",
        "for i in range(len(nProductoT)):\n",
        " print('la cantidad vendida del',producto[i],'en la',semana[i],'semana fue de', nProductoT[i])\n",
        "\n",
        "#---------------------------------------------------------------------------\n",
        "#Cantidad total de productos por semana\n",
        "#---------------------------------------------------------------------------\n",
        "#puedo sumar cualquiera de los dos vectores de cantidades ventas_por_dia / nProductosA\n",
        "#productosTotales=np.sum(ventas_por_dia)\n",
        "productosTotales=np.sum(nProductoT)\n",
        "print('La cantidad total de productos vendidos en la semana es de =' ,productosTotales)\n"
      ],
      "id": "djSElJbA4fVb"
    },
    {
      "cell_type": "markdown",
      "source": [
        "**EJERCICIO 2:**\n",
        "\n",
        "Crear un programa donde se le pida al usuario que ingrese la cantidad de elementos de una lista de números reales positivos. Luego Convertir esa lista en un vector de Numpy.\n",
        "\n"
      ],
      "metadata": {
        "id": "CqUA_dCI6FCc"
      },
      "id": "CqUA_dCI6FCc"
    },
    {
      "cell_type": "code",
      "source": [
        "###################################oks##########################################\n",
        "import numpy as np\n",
        "numero=[]\n",
        "pos=0\n",
        "neg=0\n",
        "nulo=0\n",
        "\n",
        "print('ingrese la longitud del vector' )\n",
        "rango = int (input())\n",
        "\n",
        "while pos < rango:\n",
        "  ingreso = int(input())\n",
        "  if ingreso>0:\n",
        "    numero.append(ingreso)\n",
        "    pos+=1\n",
        "  elif ingreso<0:\n",
        "    pos+=0\n",
        "    neg+=1\n",
        "  else:\n",
        "    pos+=0\n",
        "    nulo+=1\n",
        "print('se ingresaron en total',(pos+neg+nulo),'numeros,de los cuales hay',pos,'numeros positvos,',neg,'negativos y',nulo,'nulos')\n",
        "print(numero)\n",
        "\n",
        "numeros=np.array(numero)\n",
        "print(numeros)"
      ],
      "metadata": {
        "colab": {
          "base_uri": "https://localhost:8080/"
        },
        "id": "5bj41mHvjud5",
        "outputId": "feba56b2-6545-4293-afbf-2bc2a697dd4d"
      },
      "execution_count": null,
      "outputs": [
        {
          "output_type": "stream",
          "name": "stdout",
          "text": [
            "ingrese la longitud del vector\n",
            "5\n",
            "-1\n",
            "-1\n",
            "0\n",
            "0\n",
            "1\n",
            "1\n",
            "1\n",
            "1\n",
            "1\n",
            "se ingresaron en total 9 numeros,de los cuales hay 5 numeros positvos, 2 negativos y 2 nulos\n",
            "[1, 1, 1, 1, 1]\n",
            "[1 1 1 1 1]\n"
          ]
        }
      ],
      "id": "5bj41mHvjud5"
    },
    {
      "cell_type": "markdown",
      "source": [
        "\n",
        "**Ejercicio 3:**\n",
        "\n",
        "Crear un programa donde el usuario ingrese la cantidad de filas y columnas que tendra una tabla de datos. Luego el programa pedira ingresar los datos de la tabla fila por fila. Todos los datos serán numéricos.\n",
        "\n",
        "Mostrar la tabla ingresada en formato LISTA de Python, y mostrar la misma tabla en formato array de Numpy.\n",
        "\n",
        "Solicitar al usuario que ingrese las posiciones de dos filas y realice la suma  de las mismas. Mostrar este vector resultado."
      ],
      "metadata": {
        "id": "ExpBJWL591Yx"
      },
      "id": "ExpBJWL591Yx"
    },
    {
      "cell_type": "code",
      "source": [
        "import numpy as np\n",
        "\n",
        "print('ingresar filas')\n",
        "filas=int(input())\n",
        "\n",
        "print('ingresar columnas')\n",
        "columnas=int(input())\n",
        "matriz = []\n",
        "\n",
        "for r in range(filas):\n",
        "        fila = []\n",
        "        for c in range(columnas):\n",
        "          print('ingrese el valor','fila=',r+1,'columna=',c+1)\n",
        "          fila.append(int(input()))\n",
        "        matriz.append(fila)\n",
        "\n",
        "#print(matriz)\n",
        "matriz_np=np.array(matriz)\n",
        "#print(matriz_np)\n",
        "\n",
        "fila1 = int(input('Número de 1ra Fila a Sumar:'))\n",
        "fila2 = int(input('Número de 2da Fila a Sumar:'))\n",
        "\n",
        "array=matriz[fila1-1:fila1]\n",
        "array_np=np.array(array)\n",
        "array1=matriz[fila2-1:fila2]\n",
        "array1_np=np.array(array1)\n",
        "suma_np= array_np + array1_np\n",
        "\n",
        "print(matriz_np)\n",
        "print('suma',suma_np)\n"
      ],
      "metadata": {
        "colab": {
          "base_uri": "https://localhost:8080/"
        },
        "id": "3LT0hQvL30AZ",
        "outputId": "af2a844b-4d7a-46b0-95e1-cc82100674f8"
      },
      "id": "3LT0hQvL30AZ",
      "execution_count": null,
      "outputs": [
        {
          "output_type": "stream",
          "name": "stdout",
          "text": [
            "ingresar filas\n",
            "3\n",
            "ingresar columnas\n",
            "1\n",
            "ingrese el valor fila= 1 columna= 1\n",
            "1\n",
            "ingrese el valor fila= 2 columna= 1\n",
            "2\n",
            "ingrese el valor fila= 3 columna= 1\n",
            "3\n",
            "Número de 1ra Fila a Sumar:1\n",
            "Número de 2da Fila a Sumar:3\n",
            "[[1]\n",
            " [2]\n",
            " [3]]\n",
            "suma [[4]]\n"
          ]
        }
      ]
    },
    {
      "cell_type": "markdown",
      "source": [
        "\n",
        "**Ejercicio 4:**\n",
        "\n",
        "\n",
        "A continuación se muestran los valores de  los siguientes productos:\n",
        "\n",
        "['arroz', 'harina','fideo','yerba','azucar']=[145.6 , 100 , 89.90 , 700 , 95]\n",
        "\n",
        "Los valores de estos productos son aproximados de hace dos meses, debido a la inflación y alza de los precios, se vieron afectados de la siguiente manera:\n",
        "*   Producto arroz , harina, azucar duplicaron su precio\n",
        "*   Productos restantes incrementaron en un 75% su precio\n",
        "\n",
        "Mostrar los datos en forma de vector y actualizar sus precios, de manera que se pueda comparar ambos vectores."
      ],
      "metadata": {
        "id": "zOCJT7aV9vZC"
      },
      "id": "zOCJT7aV9vZC"
    },
    {
      "cell_type": "code",
      "source": [
        "##### maso - mejorar la obtencion de la columa precio   ######\n",
        "##############################################################\n",
        "import numpy as np\n",
        "\n",
        "#-------------------------sacar puntuaciones-----------------\n",
        "def reemplazo4(demo4):\n",
        "  valor4=(re.sub(r\"[.\\s]\\s*\", \"\", demo4))\n",
        "  return(int(valor4))\n",
        "#print(reemplazo(columna2[i]))  USO\n",
        "#-------------------------------------------------------------\n",
        "\n",
        "prod_precio =np.array(\n",
        "[\n",
        "['arroz', 'harina','fideo','yerba','azucar'],\n",
        "[145.6,100,89.90,700,95]\n",
        "]\n",
        ")\n",
        "#precio_0 =prod_precio[1:]\n",
        "#print(precio_0)\n",
        "\n",
        "precio4=[145.6,100,89.90,700,95]\n",
        "incremento= [2,2,1.75,1.75,2]\n",
        "\n",
        "productoA = np.multiply(precio4,incremento)\n",
        "\n",
        "print(precio4)\n",
        "print(productoA)\n",
        "\n",
        "\n",
        "\n"
      ],
      "metadata": {
        "id": "9ShthdEhCW5O",
        "colab": {
          "base_uri": "https://localhost:8080/"
        },
        "outputId": "5a872a2c-6ea5-472b-c72d-cdbc4af749ea"
      },
      "id": "9ShthdEhCW5O",
      "execution_count": null,
      "outputs": [
        {
          "output_type": "stream",
          "name": "stdout",
          "text": [
            "[145.6, 100, 89.9, 700, 95]\n",
            "[ 291.2    200.     157.325 1225.     190.   ]\n"
          ]
        }
      ]
    },
    {
      "cell_type": "markdown",
      "source": [
        "***EJERCICIO 5***\n",
        "\n",
        "Completar la siguiente tabla de comandos y funciones que se utilizarán sobre vectores definidos a través de Numpy\n",
        "\n",
        "|    | Comando | operación y funcionalidad |resultado | ejemplo |\n",
        "|---|    ---   |               ---         |    ---   |    ---  |\n",
        "1   | np.array([lista])|     crea un vector o table con Numpy  |  matriz   |np.array([1.6, 2, 0, 6.75])\n",
        "2   |np.sqrt(vector)|       devuelve la raiz cuadrada de un numero   |  numero positivo/0 - array |  np.sqrt(vector_np)\n",
        "3   |np.random.rand(n)|     crea una matriz de la forma pedida y la llena con numeros aleatorios entre 0 y 1   |  matriz | np.random.rand(5)\n",
        "4   |np.ones((n))|          crea una matriz de la forma pedida y la llena con 1   |  matriz | np.ones((3))\n",
        "5   |np.zeros((n))|         crea una matriz de la forma pedida y la llena con 0   |  matriz | np.zeros((3))\n",
        "6   | np.min(array)|        Devuelve el mínimo de una matriz o el mínimo a lo largo de un eje   |valor mínimo| np.min(vector_np)\n",
        "7   | np.max(array)|        Devuelve el maximo de una matriz o el maximo a lo largo de un eje   |valor máximo| np.max(vector_np)\n",
        "8   | np.where(CONDICIÓN SOBRE EL VECTOR)| Devuelve los elementos elegidos de x o y, dependiendo de la condición |array|np.where(vector_np>1)\n",
        "9   |np.random.shuffle(MATRIZ)|   Modifica una secuencia mezclando su contenido y la ubica en el mismo lugar  | matriz | VER EJERCICIO PARTE 2\n",
        "10  |array.shape[n], n=0,1 |   da el numero de elementos en una direccion   | tupla de int | VER EJERCICIO PARTE 2\n",
        "11  |np.sum(array, axis=n), n=0,1|  suma de los elementos en una direccion dada| numero/array |VER EJERCICIO PARTE 1\n",
        "12  |np.arange(a, b, p)|  Devuelve valores espaciados uniformemente dentro de un intervalo dado.  | array |np.arange(0, 10, 0.1) VER EJERCICIOS PARTE 3\n",
        "\n",
        "\n",
        "\n",
        "\n"
      ],
      "metadata": {
        "id": "zNFELZiHwE4O"
      },
      "id": "zNFELZiHwE4O"
    },
    {
      "cell_type": "markdown",
      "metadata": {
        "id": "eXzkUDjx-o6u"
      },
      "source": [
        "#  Funciones matemáticas sobre vectores\n",
        "En esta sección, se aplican funciones matemáticas a un vector utilizando Python puro y NumPy. Luego, se imprime el resultado de cada función.\n",
        "\n",
        "**ACLARACIÓN:** Estas funciones utilizan funciones y operaciones elementales matemáticas, sobre cada una de las posiciones del vector. Pero en general, se pueden definir funciones matemáticas que relacionan diferentes posiciones de un vector."
      ],
      "id": "eXzkUDjx-o6u"
    },
    {
      "cell_type": "code",
      "execution_count": null,
      "metadata": {
        "id": "t12Cq_uD-o6u",
        "colab": {
          "base_uri": "https://localhost:8080/"
        },
        "outputId": "c7f45d95-6017-4670-e741-fbe9198296cd"
      },
      "outputs": [
        {
          "output_type": "stream",
          "name": "stdout",
          "text": [
            "Raíz cuadrada en Python puro: [1.0, 1.4142135623730951, 1.7320508075688772, 2.0, 2.23606797749979]\n",
            "Raíz cuadrada en NumPy: [1.         1.41421356 1.73205081 2.         2.23606798]\n",
            "Vector al cuadrado en Python:  [1, 4, 9, 16, 25]\n",
            "logaritmo de un Vector en Python:  [0.0, 0.6931471805599453, 1.0986122886681098, 1.3862943611198906, 1.6094379124341003]\n",
            "logaritmo de un Vector en Numpy:  [0.         0.69314718 1.09861229 1.38629436 1.60943791]\n"
          ]
        }
      ],
      "source": [
        "import math\n",
        "vector_py = [1, 2, 3, 4, 5]\n",
        "vector_np = np.array([1, 2, 3, 4, 5])\n",
        "raiz_cuadrada_py = [math.sqrt(x) for x in vector_py]\n",
        "vector_cuad=[(x**2) for x in vector_np]\n",
        "vector_log=[math.log(x) for x in vector_np]\n",
        "raiz_cuadrada_np = np.sqrt(vector_np)\n",
        "vector_npLog=np.log(vector_np)\n",
        "print(\"Raíz cuadrada en Python puro:\", raiz_cuadrada_py)\n",
        "print(\"Raíz cuadrada en NumPy:\", raiz_cuadrada_np)\n",
        "print('Vector al cuadrado en Python: ',vector_cuad)\n",
        "print('logaritmo de un Vector en Python: ',vector_log)\n",
        "print('logaritmo de un Vector en Numpy: ',vector_npLog)"
      ],
      "id": "t12Cq_uD-o6u"
    },
    {
      "cell_type": "markdown",
      "metadata": {
        "id": "bry8WTMN-o6v"
      },
      "source": [
        "####  Rendimiento\n",
        "En esta celda, se mide el rendimiento de operaciones en un vector utilizando Python puro y NumPy. Se imprime el tiempo de ejecución de cada operación."
      ],
      "id": "bry8WTMN-o6v"
    },
    {
      "cell_type": "code",
      "execution_count": null,
      "metadata": {
        "colab": {
          "base_uri": "https://localhost:8080/"
        },
        "id": "JabuzFhf-o6v",
        "outputId": "992ce8f9-5f23-428a-bb23-c4628ad57694"
      },
      "outputs": [
        {
          "output_type": "stream",
          "name": "stdout",
          "text": [
            "Tiempo en Python puro: 0.14838314056396484 segundos\n",
            "Tiempo en NumPy: 5.1975250244140625e-05 segundos\n"
          ]
        }
      ],
      "source": [
        "import time\n",
        "vector_py = [i for i in range(1000000)]\n",
        "vector_np = np.arange(1000000)\n",
        "\n",
        "start_time = time.time()\n",
        "[x * 2 for x in vector_py]\n",
        "end_time = time.time()\n",
        "print(\"Tiempo en Python puro:\", end_time - start_time, \"segundos\")\n",
        "\n",
        "start_time = time.time()\n",
        "end_time = time.time()\n",
        "print(\"Tiempo en NumPy:\", end_time - start_time, \"segundos\")"
      ],
      "id": "JabuzFhf-o6v"
    },
    {
      "cell_type": "markdown",
      "metadata": {
        "id": "iqiM6a2i-o6x"
      },
      "source": [
        "## Redimensionar un NumPy\n",
        "A continuación se presentan dos ejemplos de redimensionamiento de un NumPy:"
      ],
      "id": "iqiM6a2i-o6x"
    },
    {
      "cell_type": "markdown",
      "metadata": {
        "id": "fkDQpzMo-o6x"
      },
      "source": [
        "#### Redimensionamiento 1\n",
        "En esta celda, se crea un NumPy 'array' y se utiliza la función reshape() de NumPy para redimensionarlo a una forma diferente. Luego, se imprime el nuevo array."
      ],
      "id": "fkDQpzMo-o6x"
    },
    {
      "cell_type": "code",
      "execution_count": null,
      "metadata": {
        "colab": {
          "base_uri": "https://localhost:8080/"
        },
        "id": "zg5ygnQ6-o6x",
        "outputId": "dcfb6bae-7d42-4427-c658-7d74e0cf6f7d"
      },
      "outputs": [
        {
          "output_type": "stream",
          "name": "stdout",
          "text": [
            "Nuevo array redimensionado: [[1 2 3]\n",
            " [4 5 6]]\n"
          ]
        }
      ],
      "source": [
        "array = np.array([1, 2, 3, 4, 5, 6])\n",
        "nuevo_array = array.reshape((2, 3))\n",
        "print(\"Nuevo array redimensionado:\", nuevo_array)"
      ],
      "id": "zg5ygnQ6-o6x"
    },
    {
      "cell_type": "markdown",
      "metadata": {
        "id": "2xfwP-s5-o6x"
      },
      "source": [
        "#### Redimensionamiento 2\n",
        "En esta celda, se crea un NumPy 'array' y se utiliza la función np.resize() de NumPy para redimensionarlo a una forma diferente. Luego, se imprime el nuevo array."
      ],
      "id": "2xfwP-s5-o6x"
    },
    {
      "cell_type": "code",
      "execution_count": null,
      "metadata": {
        "colab": {
          "base_uri": "https://localhost:8080/"
        },
        "id": "cNbF-5i3-o6x",
        "outputId": "2fb47753-1cd8-48d8-d2b2-9f00394fbbd0"
      },
      "outputs": [
        {
          "output_type": "stream",
          "name": "stdout",
          "text": [
            "Nuevo array redimensionado: [[1 2 3]\n",
            " [4 5 6]\n",
            " [1 2 3]]\n"
          ]
        }
      ],
      "source": [
        "array = np.array([1, 2, 3, 4, 5, 6])\n",
        "nuevo_array = np.resize(array, (3, 3))\n",
        "print(\"Nuevo array redimensionado:\", nuevo_array)"
      ],
      "id": "cNbF-5i3-o6x"
    },
    {
      "cell_type": "markdown",
      "source": [
        "# ***EJERCICIOS PARTE 2***\n",
        "\n",
        "**Ejercicio 1:**\n",
        "\n",
        "Dado una matriz de datos, dividir el 70% de filas en un array_entrenamiento y el otro 30% en otro array_testeo. Esta distribución de filas de la matriz inicial, debe ser aleatoria. Mostrar las matrices al ser modificadas por el comando np.random.shuffle('matriz'). Finalmente mostrar los array_entrenamiento y array_testeo."
      ],
      "metadata": {
        "id": "2hHxd6eg6w1u"
      },
      "id": "2hHxd6eg6w1u"
    },
    {
      "cell_type": "code",
      "source": [
        "###################################oks##########################################\n",
        "\n",
        "dataset = np.array([[25, 1, 7, 100, 1],\n",
        "                    [30, 2, 5, 120, 0],\n",
        "                    [22, 1, 6, 80, 1],\n",
        "                    [28, 1, 6, 90, 0],\n",
        "                    [35, 2, 4, 130, 1],\n",
        "                    [32, 2, 6, 110, 1],\n",
        "                    [26, 1, 8, 95, 1],\n",
        "                    [24, 1, 5, 85, 0],\n",
        "                    [29, 2, 7, 115, 1],\n",
        "                    [31, 2, 6, 105, 0]])\n",
        "\n",
        "\n",
        "# Mezclar las filas de la matriz para obtener una distribución aleatoria de los datos\n",
        "print('-----------------mezclado-------------------------------')\n",
        "np.random.shuffle(dataset)\n",
        "print( dataset)\n",
        "print( 'el tamaño de la matriz es=',np.shape(dataset))\n",
        "print('--------------------------------------------------------')\n",
        "print('')\n",
        "\n",
        "print('array_entrenamiento')\n",
        "print('--------------------------------------------------------')\n",
        "array_entrenamiento = dataset[0:7]\n",
        "print(array_entrenamiento)\n",
        "print( 'el tamaño de array_entrenamiento es=',np.shape(array_entrenamiento))\n",
        "print('--------------------------------------------------------')\n",
        "print('')\n",
        "print('array_testeo')\n",
        "print('--------------------------------------------------------')\n",
        "array_testeo=dataset[7:10]\n",
        "print( array_testeo)\n",
        "print( 'el tamaño de array_testeo es=',np.shape(array_testeo))\n",
        "print('--------------------------------------------------------')"
      ],
      "metadata": {
        "colab": {
          "base_uri": "https://localhost:8080/"
        },
        "id": "pzZwS3lF6M-6",
        "outputId": "96e215c8-5fbe-4c2a-9bf9-f0b2de07a61e"
      },
      "execution_count": null,
      "outputs": [
        {
          "output_type": "stream",
          "name": "stdout",
          "text": [
            "-----------------mezclado-------------------------------\n",
            "[[ 31   2   6 105   0]\n",
            " [ 25   1   7 100   1]\n",
            " [ 35   2   4 130   1]\n",
            " [ 26   1   8  95   1]\n",
            " [ 24   1   5  85   0]\n",
            " [ 28   1   6  90   0]\n",
            " [ 32   2   6 110   1]\n",
            " [ 29   2   7 115   1]\n",
            " [ 22   1   6  80   1]\n",
            " [ 30   2   5 120   0]]\n",
            "el tamaño de la matriz es= (10, 5)\n",
            "--------------------------------------------------------\n",
            "\n",
            "array_entrenamiento\n",
            "--------------------------------------------------------\n",
            "[[ 31   2   6 105   0]\n",
            " [ 25   1   7 100   1]\n",
            " [ 35   2   4 130   1]\n",
            " [ 26   1   8  95   1]\n",
            " [ 24   1   5  85   0]\n",
            " [ 28   1   6  90   0]\n",
            " [ 32   2   6 110   1]]\n",
            "el tamaño de array_entrenamiento es= (7, 5)\n",
            "--------------------------------------------------------\n",
            "\n",
            "array_testeo\n",
            "--------------------------------------------------------\n",
            "[[ 29   2   7 115   1]\n",
            " [ 22   1   6  80   1]\n",
            " [ 30   2   5 120   0]]\n",
            "el tamaño de array_testeo es= (3, 5)\n",
            "--------------------------------------------------------\n"
          ]
        }
      ],
      "id": "pzZwS3lF6M-6"
    },
    {
      "cell_type": "markdown",
      "source": [
        "**Ejercicio 2:**\n",
        "\n",
        "Dado la siguiente tabla de datos poblaciones de las Provincias de Argentina (Ejercicio 10 del Práctico 1), Realizar el siguiente analisis.\n",
        "\n",
        "\n",
        "\n",
        "*   indicar la cantidad de filas y columnas que posee la tabla de datos.\n",
        "*   Mostrar toda la información de la provincia con Mayor Cantidad de habitantes. AYUDA: usar la función np.max(array)\n",
        "*   Agregar a la tabla de datos una fila al final , indicando los totales de cada columna. Mostrar el resultado de la nueva tabla.\n",
        "\n"
      ],
      "metadata": {
        "id": "9WqSL4cG7LhH"
      },
      "id": "9WqSL4cG7LhH"
    },
    {
      "cell_type": "code",
      "source": [
        "###################################oks##########################################\n",
        "from ctypes import py_object\n",
        "import numpy as np\n",
        "import string\n",
        "import re\n",
        "filaTotales=[]\n",
        "# da un error de conversion dado que los valores de la columna habitantes el numero tiene separacion con puntos.\n",
        "poblacionArgentina1=[\n",
        "    ['PROVINCIA','CANTIDAD DE HABITANTES','CONSUMO EN MWH','SUPERFICIE EN KM^2'],\n",
        "    ['Buenos Aires','17.569.053','16543722','305907'],\n",
        "    ['Córdoba','3.978.984',' 10606601','164708'],\n",
        "    ['Santa Fe','3.556.522',' 13078203',' 133249'],\n",
        "    ['Ciudad Autónoma de Buenos Aires','3.120.612','51712507',' 201'],\n",
        "    ['Mendoza','2.014.533',' 5652519',' 149069'],\n",
        "    ['Tucumán','1.703.186','3208711','22.524'],\n",
        "    ['Salta','1.440.672',' 2214796',' 155341'],\n",
        "    ['Entre Ríos','1.426.426','3906353','78384'],\n",
        "    ['Misiones','1.280.960','2845762',' 29911'],\n",
        "    ['Corrientes','1.197.553','2997612',' 89123'],\n",
        "    ['Chaco','1.142.963','3045380',' 99763'],\n",
        "    ['Santiago del Estero','1.054.028',' 1811277',' 136934'],\n",
        "    ['San Juan','818.234',' 2381940',' 88296'],\n",
        "   ['Jujuy','797.955',' 1136336',' 53244'],\n",
        "   ['Río Negro','762.067',' 1984782','202169'],\n",
        "   ['Neuquén','726.590','1834879',' 94422'],\n",
        "   ['Formosa','606.041',' 1388311','75488'],\n",
        "   ['Chubut','603.120','1646029',' 224302'],\n",
        "   ['San Luis','540.905',' 1780881','75347'],\n",
        "   ['Catamarca','429.556',' 1337032','101486'],\n",
        "   ['La Rioja','384.607','1572290',' 91494'],\n",
        "   ['La Pampa','366.022','915781',' 143493'],\n",
        "   ['Santa Cruz','333.473',' 1025648',' 244458'],\n",
        "   ['Tierra del Fuego, Antártida e Islas del Atlántico Sur','190.641',' s/d ',' 37131']]\n",
        "\n",
        "poblacionArgentina=np.array(poblacionArgentina1)\n",
        "poblacionArgentina_t=np.array(poblacionArgentina1)\n",
        "#print(poblacionArgentina)\n",
        "print( 'el tamaño de la matriz es=',np.shape(poblacionArgentina))\n",
        "print('--------------------------------------------------------')\n",
        "\n",
        "#print(type(poblacionArgentina))\n",
        "poblacionArgentina_1=poblacionArgentina[1:]\n",
        "#print(poblacionArgentina_1) #saco los encabezados\n",
        "\n",
        "#-------------------------sacar puntuaciones-----------------\n",
        "def reemplazo(demo):\n",
        "\n",
        "  #valor=(re.sub(r\"[-;,.\\s]\\s*\", \"\", demo))\n",
        "\n",
        "  #usada en el practico enviado, la encontre en internet\n",
        "  #caso especial de la funcion replace, utiliza un conjunto de caracteres en\n",
        "  #forma de expresion regular\n",
        "\n",
        " #**************************************************************************\n",
        "\n",
        "  #                  punto            espacio         cadena\n",
        "  valor=demo.replace(\".\",\"\").replace(\" \",\"\").replace(\"s/d\",\"0\")\n",
        "\n",
        "  #dada por el profesor, se concatena cadenas de reemplazo y se puede filtrar\n",
        "  #los distintos caracteres o string que no son numeros.\n",
        "  #el uso es primero la cadena buscada y luego por lo que lo reemplazo\n",
        "  #y van encerrados por comillas dobles  \"\"\"\n",
        "#**************************************************************************\n",
        "\n",
        "  return(int(valor))\n",
        "#print(reemplazo(columna2[i]))  USO\n",
        "\n",
        "\n",
        "\n",
        "#-------------------------------------------------------------\n",
        "#esta funcion la utilizo para sacar las puntuaciones, dado que si\n",
        "#quiero transformar en int un str me da error porque no puede Transformar\n",
        "#signos que no son numeros. En un caso son puntos y en el otro espacios\n",
        "#deberia incluir poder sacar s/d en esta funcion tambien.\n",
        "#------------------------------------------------------------\n",
        "\n",
        "# columna habitantes\n",
        "i=1\n",
        "columna10 = list (poblacionArgentina_1[:,i])\n",
        "for i in range(len(columna10)):\n",
        "  columna10[i]=reemplazo(columna10[i])\n",
        "\n",
        "#(np.max(columna10)) # busco el maximo valor de la columna\n",
        "\n",
        "#me da el indice del maximo valor\n",
        "indice=(np.argmax(columna10))\n",
        "print()\n",
        " #busco en la tabla original la info total\n",
        "print('Datos de la provincia con mayor poblacion', poblacionArgentina[indice+1])\n",
        "sumaHabitantes=np.sum(columna10)\n",
        "\n",
        "print('Suma Total de habitantes', sumaHabitantes) #hago la suma total de la columna\n",
        "print()\n",
        "#------------------------------------------- -----------------\n",
        "\n",
        "#------------------------------------------- -----------------\n",
        "#columna consumo\n",
        "i=2\n",
        "columna20 = list (poblacionArgentina_1[:,i])\n",
        "for i in range(len(columna20)):\n",
        "  columna20[i]=reemplazo(columna20[i])\n",
        "\n",
        "\n",
        "#------------------- error en el ultimo valor s/d reemplazo por 0----------\n",
        "sumaConsumo=np.sum(columna20)\n",
        "print()\n",
        "print('Suma Total del Consumo', sumaConsumo) #hago la suma total de la columna\n",
        "print()\n",
        "#--------------------------------------------------------------------------\n",
        "\n",
        "#------------------------------------------- -----------------\n",
        "# columna superficie\n",
        "i=3\n",
        "columna30 = list (poblacionArgentina_1[:,i])\n",
        "for i in range(len(columna30)):\n",
        "  columna30[i]=reemplazo(columna30[i])\n",
        "\n",
        "sumaSup=np.sum(columna30)\n",
        "print()\n",
        "print('Suma total de la superficie', sumaSup) #hago la suma total de la columna\n",
        "print()\n",
        "#------------------------------------------- -----------------\n",
        "#armo la fila de los totales\n",
        "filaTotales.append('Totales')\n",
        "filaTotales.append(sumaHabitantes)\n",
        "filaTotales.append(sumaConsumo)\n",
        "filaTotales.append(sumaSup)\n",
        "#print(filaTotales)\n",
        "\n",
        "\n",
        "\n",
        "#adiciono la fila total a la matriz original\n",
        "Total=np.append(poblacionArgentina_t,filaTotales)\n",
        "\n",
        "#muestro ambas matrices\n",
        "print()\n",
        "print(poblacionArgentina)\n",
        "print()\n",
        "print(Total)\n",
        "print()"
      ],
      "metadata": {
        "colab": {
          "base_uri": "https://localhost:8080/"
        },
        "id": "5h1AALwz8Eqo",
        "outputId": "7ec5bbb9-bf72-47b6-e402-6a869cc093fc"
      },
      "id": "5h1AALwz8Eqo",
      "execution_count": null,
      "outputs": [
        {
          "output_type": "stream",
          "name": "stdout",
          "text": [
            "el tamaño de la matriz es= (25, 4)\n",
            "--------------------------------------------------------\n",
            "\n",
            "Datos de la provincia con mayor poblacion ['Buenos Aires' '17.569.053' '16543722' '305907']\n",
            "Suma Total de habitantes 46044703\n",
            "\n",
            "\n",
            "Suma Total del Consumo 134627352\n",
            "\n",
            "\n",
            "Suma total de la superficie 2796444\n",
            "\n",
            "\n",
            "[['PROVINCIA' 'CANTIDAD DE HABITANTES' 'CONSUMO EN MWH'\n",
            "  'SUPERFICIE EN KM^2']\n",
            " ['Buenos Aires' '17.569.053' '16543722' '305907']\n",
            " ['Córdoba' '3.978.984' ' 10606601' '164708']\n",
            " ['Santa Fe' '3.556.522' ' 13078203' ' 133249']\n",
            " ['Ciudad Autónoma de Buenos Aires' '3.120.612' '51712507' ' 201']\n",
            " ['Mendoza' '2.014.533' ' 5652519' ' 149069']\n",
            " ['Tucumán' '1.703.186' '3208711' '22.524']\n",
            " ['Salta' '1.440.672' ' 2214796' ' 155341']\n",
            " ['Entre Ríos' '1.426.426' '3906353' '78384']\n",
            " ['Misiones' '1.280.960' '2845762' ' 29911']\n",
            " ['Corrientes' '1.197.553' '2997612' ' 89123']\n",
            " ['Chaco' '1.142.963' '3045380' ' 99763']\n",
            " ['Santiago del Estero' '1.054.028' ' 1811277' ' 136934']\n",
            " ['San Juan' '818.234' ' 2381940' ' 88296']\n",
            " ['Jujuy' '797.955' ' 1136336' ' 53244']\n",
            " ['Río Negro' '762.067' ' 1984782' '202169']\n",
            " ['Neuquén' '726.590' '1834879' ' 94422']\n",
            " ['Formosa' '606.041' ' 1388311' '75488']\n",
            " ['Chubut' '603.120' '1646029' ' 224302']\n",
            " ['San Luis' '540.905' ' 1780881' '75347']\n",
            " ['Catamarca' '429.556' ' 1337032' '101486']\n",
            " ['La Rioja' '384.607' '1572290' ' 91494']\n",
            " ['La Pampa' '366.022' '915781' ' 143493']\n",
            " ['Santa Cruz' '333.473' ' 1025648' ' 244458']\n",
            " ['Tierra del Fuego, Antártida e Islas del Atlántico Sur' '190.641'\n",
            "  ' s/d ' ' 37131']]\n",
            "\n",
            "['PROVINCIA' 'CANTIDAD DE HABITANTES' 'CONSUMO EN MWH'\n",
            " 'SUPERFICIE EN KM^2' 'Buenos Aires' '17.569.053' '16543722' '305907'\n",
            " 'Córdoba' '3.978.984' ' 10606601' '164708' 'Santa Fe' '3.556.522'\n",
            " ' 13078203' ' 133249' 'Ciudad Autónoma de Buenos Aires' '3.120.612'\n",
            " '51712507' ' 201' 'Mendoza' '2.014.533' ' 5652519' ' 149069' 'Tucumán'\n",
            " '1.703.186' '3208711' '22.524' 'Salta' '1.440.672' ' 2214796' ' 155341'\n",
            " 'Entre Ríos' '1.426.426' '3906353' '78384' 'Misiones' '1.280.960'\n",
            " '2845762' ' 29911' 'Corrientes' '1.197.553' '2997612' ' 89123' 'Chaco'\n",
            " '1.142.963' '3045380' ' 99763' 'Santiago del Estero' '1.054.028'\n",
            " ' 1811277' ' 136934' 'San Juan' '818.234' ' 2381940' ' 88296' 'Jujuy'\n",
            " '797.955' ' 1136336' ' 53244' 'Río Negro' '762.067' ' 1984782' '202169'\n",
            " 'Neuquén' '726.590' '1834879' ' 94422' 'Formosa' '606.041' ' 1388311'\n",
            " '75488' 'Chubut' '603.120' '1646029' ' 224302' 'San Luis' '540.905'\n",
            " ' 1780881' '75347' 'Catamarca' '429.556' ' 1337032' '101486' 'La Rioja'\n",
            " '384.607' '1572290' ' 91494' 'La Pampa' '366.022' '915781' ' 143493'\n",
            " 'Santa Cruz' '333.473' ' 1025648' ' 244458'\n",
            " 'Tierra del Fuego, Antártida e Islas del Atlántico Sur' '190.641' ' s/d '\n",
            " ' 37131' 'Totales' '46044703' '134627352' '2796444']\n",
            "\n"
          ]
        }
      ]
    },
    {
      "cell_type": "markdown",
      "metadata": {
        "id": "lQwZW6nj-o67"
      },
      "source": [
        "# Ploteo de datos con Matplotlib\n",
        "A continuación se presentan ejemplos de diferentes tipos de gráficos utilizando Matplotlib:"
      ],
      "id": "lQwZW6nj-o67"
    },
    {
      "cell_type": "markdown",
      "metadata": {
        "id": "W6xs2svw-o67"
      },
      "source": [
        "## Gráfica de funciones matemáticas elementales\n",
        "En esta celda, se crea un array 'x' con valores en el rango de 0 a 10 y se utiliza la función np.sin() y np.cos() de NumPy para calcular el seno y coseno de cada valor en 'x'. Luego, se utiliza la biblioteca Matplotlib para trazar un gráfico de línea con 'x' en el eje x y 'y' en el eje y. También se agrega etiquetas y un título al gráfico."
      ],
      "id": "W6xs2svw-o67"
    },
    {
      "cell_type": "code",
      "execution_count": null,
      "metadata": {
        "colab": {
          "base_uri": "https://localhost:8080/",
          "height": 284
        },
        "id": "GQGdYmNN-o67",
        "outputId": "85ff9e91-3d9c-44e5-a5c3-cb2b12fc097c"
      },
      "outputs": [
        {
          "output_type": "display_data",
          "data": {
            "text/plain": [
              "<Figure size 640x480 with 1 Axes>"
            ],
            "image/png": "[encoded data removed]"
          },
          "metadata": {}
        }
      ],
      "source": [
        "import matplotlib.pyplot as plt\n",
        "\n",
        "x = np.arange(0, 10, 0.1)\n",
        "y = np.cos(x)\n",
        "\n",
        "plt.plot(x, y)\n",
        "plt.xlabel('x')\n",
        "plt.ylabel('y')\n",
        "plt.title('Gráfico de línea')\n",
        "plt.show()"
      ],
      "id": "GQGdYmNN-o67"
    },
    {
      "cell_type": "markdown",
      "source": [
        "# ***EJERCICIOS PARTE 3***\n",
        "\n",
        "*Realizar las gráficas de als siguientes expresiones matemáticas. Determinar el dominio del eje x adecuado para plotear las funciones de manera que se visualice su comportamiento.*\n",
        "\n",
        "\n",
        "*  $ y= 3x -2$\n",
        "*   $y= 2x^2+4x+2 $\n",
        "*   $y= \\vert x\\vert= \\begin{cases}-x & x < 0 \\\\ x & x\\ge 0                       \\end{cases}$\n",
        "*   $y= 1/x$\n",
        "*   $y=\\sqrt x$\n",
        "\n",
        "\n"
      ],
      "metadata": {
        "id": "Q0dztL-66aVb"
      },
      "id": "Q0dztL-66aVb"
    },
    {
      "cell_type": "code",
      "source": [
        "###################################oks##########################################\n",
        "import numpy as np\n",
        "import matplotlib.pyplot as plt\n",
        "import math\n",
        "#-----------------------------#-----------------------------#\n",
        "import warnings\n",
        "warnings.simplefilter(action='ignore', category=RuntimeWarning)\n",
        "#-----------------------------#-----------------------------#\n",
        "\n",
        "fig, ax = plt.subplots()\n",
        "\n",
        "#-------------recta--------------------------\n",
        "x=np.linspace(-2,2,100)\n",
        "y = (3*x) - 2\n",
        "ax.plot(x, y,'--',color = 'r',lw=1, label = 'f. lineal')\n",
        "#------------raiz cuadrada -------------------\n",
        "x1=np.linspace(0,2,100)\n",
        "y1=10*np.sqrt(x1)       #multiplicada x10 para que se pueda comparar\n",
        "ax.plot(x1, y1,'-',color = 'b',lw=1, label = 'f. raiz cuadrada')\n",
        "#------------cuadratica -------------------\n",
        "x2=np.linspace(-2,2,100)\n",
        "y2=2*(x**2)+(4*x)+2\n",
        "ax.plot(x2, y2,color = 'm',lw=1, label = 'f. cuadratica')\n",
        "#------------f modulo -------------------\n",
        "x3=np.linspace(-2,2,100)\n",
        "y3=10*np.abs(x3)          #multiplicada x10 para que se pueda comparar\n",
        "ax.plot(x3, y3,color = 'g',lw=1, label = 'f. modulo')\n",
        "#------------hiperbola -------------------\n",
        "x4=np.linspace(0,2,100)\n",
        "y4=(1/x4)\n",
        "ax.plot(x4, y4,color = 'k',lw=1, label = 'hiperbola')\n",
        "x5=np.linspace(-2,0,100,endpoint=False)  #para no tomar el valor 0\n",
        "y5=(1/x5)\n",
        "ax.plot(x5, y5,color = 'k',lw=1)\n",
        "\n",
        "\n",
        "\n",
        "#configuracion general del grafico\n",
        "plt.xlabel('x')\n",
        "plt.ylabel('y')\n",
        "plt.grid()\n",
        "plt.title('Gráficos de distintas funciones')\n",
        "ax.legend(loc = 'upper left')\n",
        "plt.show()\n"
      ],
      "metadata": {
        "id": "hdUUWovlCiV1",
        "colab": {
          "base_uri": "https://localhost:8080/",
          "height": 472
        },
        "outputId": "c5589f40-f4a0-45a2-f395-62e8498b8006"
      },
      "id": "hdUUWovlCiV1",
      "execution_count": null,
      "outputs": [
        {
          "output_type": "display_data",
          "data": {
            "text/plain": [
              "<Figure size 640x480 with 1 Axes>"
            ],
            "image/png": "[encoded data removed]"
          },
          "metadata": {}
        }
      ]
    },
    {
      "cell_type": "markdown",
      "source": [
        "RuntimeWarning: divide by zero encountered in true_divide\n",
        "  y4=(1/x4)\n",
        "\n",
        "\n",
        "se ocultan estos errores con la adicion de las lineas 4 - 5\n",
        "\n",
        "funcion raiz y funcion modulo las multiplique x10 solo con el objeto de visualizarlas en el mismo grafico"
      ],
      "metadata": {
        "id": "sVkNlF10oyid"
      },
      "id": "sVkNlF10oyid"
    }
  ],
  "metadata": {
    "kernelspec": {
      "display_name": "Python 3",
      "language": "python",
      "name": "python3"
    },
    "language_info": {
      "codemirror_mode": {
        "name": "ipython",
        "version": 3
      },
      "file_extension": ".py",
      "mimetype": "text/x-python",
      "name": "python",
      "nbconvert_exporter": "python",
      "pygments_lexer": "ipython3",
      "version": "3.11.1"
    },
    "colab": {
      "provenance": [],
      "include_colab_link": true
    }
  },
  "nbformat": 4,
  "nbformat_minor": 5
}