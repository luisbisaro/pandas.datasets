{
  "nbformat": 4,
  "nbformat_minor": 0,
  "metadata": {
    "colab": {
      "provenance": [],
      "include_colab_link": true
    },
    "kernelspec": {
      "name": "python3",
      "display_name": "Python 3"
    },
    "language_info": {
      "name": "python"
    }
  },
  "cells": [
    {
      "cell_type": "markdown",
      "metadata": {
        "id": "view-in-github",
        "colab_type": "text"
      },
      "source": [
        "<a href=\"https://colab.research.google.com/github/luisbisaro/pandas.datasets/blob/main/C3_UNIDAD_5_1.ipynb\" target=\"_parent\"><img src=\"https://colab.research.google.com/assets/colab-badge.svg\" alt=\"Open In Colab\"/></a>"
      ]
    },
    {
      "cell_type": "markdown",
      "source": [
        "# **Agrupación**\n",
        "\n",
        "El análisis de conglomerados, o agrupamiento, es una tarea de aprendizaje automático no supervisada.\n",
        "\n",
        "Implica descubrir automáticamente la agrupación natural en los datos. A diferencia del aprendizaje supervisado (como el modelado predictivo), los algoritmos de agrupación solo interpretan los datos de entrada y encuentran grupos naturales o agrupaciones en el espacio de características\n",
        "\n",
        "\n",
        "\n",
        "Las técnicas de agrupamiento se aplican cuando no hay una clase que predecir sino más bien cuando las instancias se van a dividir en grupos naturales.\n",
        "\n",
        "\n",
        "\n"
      ],
      "metadata": {
        "id": "EL9D-F_Ta8CX"
      }
    },
    {
      "cell_type": "markdown",
      "source": [
        "Un grupo suele ser un área de densidad en el espacio de características donde los ejemplos del dominio (observaciones o filas de datos) están más cerca del grupo que otros grupos. El grupo puede tener un centro (el centroide) que es una muestra o un espacio de características puntuales y puede tener un límite o una extensión\n",
        "\n",
        "La agrupación en clústeres puede ser útil como actividad de análisis de datos para aprender más sobre el dominio del problema, lo que se conoce como descubrimiento de patrones o descubrimiento de conocimiento\n",
        "\n",
        "La agrupación en clústeres también puede ser útil como un tipo de ingeniería de características, donde los ejemplos existentes y nuevos se pueden mapear y etiquetar como pertenecientes a uno de los grupos identificados en los datos"
      ],
      "metadata": {
        "id": "Gf0nIxLobc8s"
      }
    },
    {
      "cell_type": "markdown",
      "source": [
        "## **Algoritmos de agrupamiento**\n",
        "\n",
        "\n",
        "Hay muchos tipos de algoritmos de agrupamiento.\n",
        "\n",
        "Muchos algoritmos usan medidas de similitud o distancia entre ejemplos en el espacio de características en un esfuerzo por descubrir regiones densas de observaciones. Como tal, a menudo es una buena práctica escalar los datos antes de usar algoritmos de agrupamiento."
      ],
      "metadata": {
        "id": "bzSdE-agcQ99"
      }
    },
    {
      "cell_type": "markdown",
      "source": [
        "# IMPLEMENTACIÓN DEL ALGORITMO DE K-MEANS\n",
        "\n",
        "En este ejemplo el dataframe es generado de manera aleatoria. Y el ejemplo se centra en la implementación del algoritmo."
      ],
      "metadata": {
        "id": "4ui17NW5lbKh"
      }
    },
    {
      "cell_type": "code",
      "source": [
        "#importar las librerias requeridas\n",
        "import numpy as np\n",
        "import pandas as pd\n",
        "import matplotlib.pyplot as plt"
      ],
      "metadata": {
        "id": "mJW8fQvyu3tL"
      },
      "execution_count": null,
      "outputs": []
    },
    {
      "cell_type": "code",
      "source": [
        "# data\n",
        "#data=np.random.uniform(2,3,size=(30,20))\n",
        "data=np.random.random(size=(30,2))\n",
        "print(data)\n"
      ],
      "metadata": {
        "id": "HwDeBSXTvEzD",
        "colab": {
          "base_uri": "https://localhost:8080/",
          "height": 556
        },
        "outputId": "88003a9c-ca43-40b7-c85d-e4a24ddfef70"
      },
      "execution_count": null,
      "outputs": [
        {
          "output_type": "display_data",
          "data": {
            "text/plain": [
              "array([[0.30049243, 0.0242812 ],\n",
              "       [0.37892878, 0.9508072 ],\n",
              "       [0.4969714 , 0.52613747],\n",
              "       [0.35485096, 0.22613672],\n",
              "       [0.44525853, 0.63816897],\n",
              "       [0.53289866, 0.71744784],\n",
              "       [0.69214886, 0.59370815],\n",
              "       [0.61960273, 0.72851413],\n",
              "       [0.03892476, 0.37652625],\n",
              "       [0.30060908, 0.48287291],\n",
              "       [0.61456201, 0.67880623],\n",
              "       [0.09007479, 0.80129607],\n",
              "       [0.14621836, 0.5432844 ],\n",
              "       [0.51412272, 0.26379388],\n",
              "       [0.64156222, 0.64201252],\n",
              "       [0.13309357, 0.83998652],\n",
              "       [0.85145727, 0.25218429],\n",
              "       [0.83981903, 0.32594988],\n",
              "       [0.99023162, 0.77066519],\n",
              "       [0.67766369, 0.97027744],\n",
              "       [0.37121529, 0.19227974],\n",
              "       [0.34308169, 0.81361934],\n",
              "       [0.39158488, 0.72365046],\n",
              "       [0.37226578, 0.30616827],\n",
              "       [0.49350475, 0.34472863],\n",
              "       [0.16016312, 0.09935541],\n",
              "       [0.5175701 , 0.90433195],\n",
              "       [0.41020495, 0.82457758],\n",
              "       [0.2462592 , 0.50003643],\n",
              "       [0.4326144 , 0.11861104]])"
            ]
          },
          "metadata": {}
        }
      ]
    },
    {
      "cell_type": "code",
      "source": [
        "plt.scatter(data[:,0],data[:,1])"
      ],
      "metadata": {
        "colab": {
          "base_uri": "https://localhost:8080/",
          "height": 448
        },
        "id": "hnJ5cJ1uvnqh",
        "outputId": "fa6201c9-1314-47a5-e632-5ac489c028fd"
      },
      "execution_count": null,
      "outputs": [
        {
          "output_type": "execute_result",
          "data": {
            "text/plain": [
              "<matplotlib.collections.PathCollection at 0x7e0d905cf790>"
            ]
          },
          "metadata": {},
          "execution_count": 5
        },
        {
          "output_type": "display_data",
          "data": {
            "text/plain": [
              "<Figure size 640x480 with 1 Axes>"
            ],
            "image/png": "[encoded data removed]"
          },
          "metadata": {}
        }
      ]
    },
    {
      "cell_type": "code",
      "source": [
        "from sklearn.cluster import KMeans  #SciKit Learn\n",
        "\n",
        "#objeto KMEans\n",
        "#K=4\n",
        "\n",
        "kmeans=KMeans(n_clusters=2).fit(data)  # estamos definiendo un objeto k-means con la cantidad de cluster\n",
        "centroids= kmeans.cluster_centers_ # metodo para encontrar los centroides\n",
        "print(centroids)\n",
        "#print(kmeans)\n"
      ],
      "metadata": {
        "colab": {
          "base_uri": "https://localhost:8080/"
        },
        "id": "hvSmmseFvyNq",
        "outputId": "c48c284d-3d6b-46d8-ff8c-10425056b103"
      },
      "execution_count": null,
      "outputs": [
        {
          "output_type": "stream",
          "name": "stdout",
          "text": [
            "[[0.38732265 0.28972922]\n",
            " [0.4984649  0.75775044]]\n"
          ]
        },
        {
          "output_type": "stream",
          "name": "stderr",
          "text": [
            "/usr/local/lib/python3.10/dist-packages/sklearn/cluster/_kmeans.py:870: FutureWarning: The default value of `n_init` will change from 10 to 'auto' in 1.4. Set the value of `n_init` explicitly to suppress the warning\n",
            "  warnings.warn(\n"
          ]
        }
      ]
    },
    {
      "cell_type": "code",
      "source": [
        "plt.scatter(data[:,0],data[:,1], c=kmeans.labels_.astype(float),s=50)\n",
        "plt.scatter(centroids[:,0],centroids[:,1],c='red',marker='*',s=50)\n",
        "plt.show()"
      ],
      "metadata": {
        "colab": {
          "base_uri": "https://localhost:8080/",
          "height": 430
        },
        "id": "CHxZ7soPxHL_",
        "outputId": "1bb4b238-64b9-4fba-91e7-c5e2f29bfc99"
      },
      "execution_count": null,
      "outputs": [
        {
          "output_type": "display_data",
          "data": {
            "text/plain": [
              "<Figure size 640x480 with 1 Axes>"
            ],
            "image/png": "[encoded data removed]"
          },
          "metadata": {}
        }
      ]
    },
    {
      "cell_type": "code",
      "source": [
        "#K=3\n",
        "\n",
        "kmeans=KMeans(n_clusters=3).fit(data)  # estamos definiendo un objeto k-means con la cantidad de cluster\n",
        "centroids= kmeans.cluster_centers_ # metodo para encontrar los centroides\n",
        "print(centroids)"
      ],
      "metadata": {
        "colab": {
          "base_uri": "https://localhost:8080/"
        },
        "id": "biHv_ULMxziD",
        "outputId": "4734b1e4-3d9b-4365-cc80-bf6a93406469"
      },
      "execution_count": null,
      "outputs": [
        {
          "output_type": "stream",
          "name": "stdout",
          "text": [
            "[[0.69569175 0.62057031]\n",
            " [0.32591114 0.26679914]\n",
            " [0.31733507 0.78219139]]\n"
          ]
        },
        {
          "output_type": "stream",
          "name": "stderr",
          "text": [
            "/usr/local/lib/python3.10/dist-packages/sklearn/cluster/_kmeans.py:870: FutureWarning: The default value of `n_init` will change from 10 to 'auto' in 1.4. Set the value of `n_init` explicitly to suppress the warning\n",
            "  warnings.warn(\n"
          ]
        }
      ]
    },
    {
      "cell_type": "code",
      "source": [
        "print(kmeans.labels_)"
      ],
      "metadata": {
        "colab": {
          "base_uri": "https://localhost:8080/"
        },
        "id": "CFDlaR0vySu9",
        "outputId": "73997065-b42d-48cf-e97d-28a4041a3a7e"
      },
      "execution_count": null,
      "outputs": [
        {
          "output_type": "stream",
          "name": "stdout",
          "text": [
            "[1 2 0 1 2 0 0 0 1 1 0 2 2 1 0 2 0 0 0 0 1 2 2 1 1 1 2 2 1 1]\n"
          ]
        }
      ]
    },
    {
      "cell_type": "code",
      "source": [
        "plt.scatter(data[:,0],data[:,1], c=kmeans.labels_.astype(float),s=50)\n",
        "plt.scatter(centroids[:,0],centroids[:,1],c='red',marker='*',s=50)\n",
        "plt.show()"
      ],
      "metadata": {
        "colab": {
          "base_uri": "https://localhost:8080/",
          "height": 430
        },
        "id": "sqGVsvFxyO6t",
        "outputId": "7b3450d7-e6a6-4a2f-ed35-6ab639d1d14d"
      },
      "execution_count": null,
      "outputs": [
        {
          "output_type": "display_data",
          "data": {
            "text/plain": [
              "<Figure size 640x480 with 1 Axes>"
            ],
            "image/png": "[encoded data removed]"
          },
          "metadata": {}
        }
      ]
    },
    {
      "cell_type": "code",
      "source": [
        "clust=kmeans.predict(data)\n",
        "print(clust)"
      ],
      "metadata": {
        "colab": {
          "base_uri": "https://localhost:8080/"
        },
        "id": "NzWW1Df1yvZN",
        "outputId": "7da14f5e-9bc4-4be5-f321-818e006a9e97"
      },
      "execution_count": null,
      "outputs": [
        {
          "output_type": "stream",
          "name": "stdout",
          "text": [
            "[1 2 0 1 2 0 0 0 1 1 0 2 2 1 0 2 0 0 0 0 1 2 2 1 1 1 2 2 1 1]\n"
          ]
        }
      ]
    },
    {
      "cell_type": "code",
      "source": [
        "#ingresar el k por consola\n",
        "k= int(input('Ingrese el número de cluster:\\n'))\n",
        "kmeans=KMeans(n_clusters=k).fit(data)\n",
        "centroids=kmeans.cluster_centers_\n",
        "print('el valor de k es:\\n',k, 'los centroides son:\\n', centroids)\n",
        "plt.scatter(data[:,0],data[:,1],c=kmeans.labels_.astype(float),s=50)\n",
        "plt.scatter(centroids[:,0],centroids[:,1],c='red',marker='*',s=50)\n",
        "plt.show()"
      ],
      "metadata": {
        "colab": {
          "base_uri": "https://localhost:8080/",
          "height": 647
        },
        "id": "jFlruJ6yy8pP",
        "outputId": "e4436fa7-ca66-4e07-b9fc-5d1aa00c62aa"
      },
      "execution_count": null,
      "outputs": [
        {
          "name": "stdout",
          "output_type": "stream",
          "text": [
            "Ingrese el número de cluster:\n",
            "5\n"
          ]
        },
        {
          "output_type": "stream",
          "name": "stderr",
          "text": [
            "/usr/local/lib/python3.10/dist-packages/sklearn/cluster/_kmeans.py:870: FutureWarning: The default value of `n_init` will change from 10 to 'auto' in 1.4. Set the value of `n_init` explicitly to suppress the warning\n",
            "  warnings.warn(\n"
          ]
        },
        {
          "output_type": "stream",
          "name": "stdout",
          "text": [
            "el valor de k es:\n",
            " 5 los centroides son:\n",
            " [[0.65820515 0.70344612]\n",
            " [0.37490368 0.19691936]\n",
            " [0.33872466 0.81205476]\n",
            " [0.84563815 0.28906708]\n",
            " [0.18300285 0.47568   ]]\n"
          ]
        },
        {
          "output_type": "display_data",
          "data": {
            "text/plain": [
              "<Figure size 640x480 with 1 Axes>"
            ],
            "image/png": "[encoded data removed]"
          },
          "metadata": {}
        }
      ]
    },
    {
      "cell_type": "code",
      "source": [
        "#Predecir a que cluster pertenece casa instancia\n",
        "clust=kmeans.predict(data)\n",
        "print(clust)"
      ],
      "metadata": {
        "colab": {
          "base_uri": "https://localhost:8080/"
        },
        "id": "79Yvp8rP0jUJ",
        "outputId": "3ee8b7cb-4bda-4c68-9bd0-b542e569a7d8"
      },
      "execution_count": null,
      "outputs": [
        {
          "output_type": "stream",
          "name": "stdout",
          "text": [
            "[1 2 0 1 2 0 0 0 4 4 0 2 4 1 0 2 3 3 0 0 1 2 2 1 1 1 2 2 4 1]\n"
          ]
        }
      ]
    },
    {
      "cell_type": "code",
      "source": [
        "#Calcular la métrica SSE Sum of Square Error para diferentes K (suma de errores al cuadrado)\n",
        "krango=range(1,10)\n",
        "sse=[]\n",
        "for k in krango:\n",
        "  kmeans=KMeans(n_clusters=k).fit(data)\n",
        "  sse.append(kmeans.inertia_)\n"
      ],
      "metadata": {
        "colab": {
          "base_uri": "https://localhost:8080/"
        },
        "id": "me_ZzPFb0zZx",
        "outputId": "939a3a16-00fa-42fa-9934-3807eb31af04"
      },
      "execution_count": null,
      "outputs": [
        {
          "output_type": "stream",
          "name": "stderr",
          "text": [
            "/usr/local/lib/python3.10/dist-packages/sklearn/cluster/_kmeans.py:870: FutureWarning: The default value of `n_init` will change from 10 to 'auto' in 1.4. Set the value of `n_init` explicitly to suppress the warning\n",
            "  warnings.warn(\n",
            "/usr/local/lib/python3.10/dist-packages/sklearn/cluster/_kmeans.py:870: FutureWarning: The default value of `n_init` will change from 10 to 'auto' in 1.4. Set the value of `n_init` explicitly to suppress the warning\n",
            "  warnings.warn(\n",
            "/usr/local/lib/python3.10/dist-packages/sklearn/cluster/_kmeans.py:870: FutureWarning: The default value of `n_init` will change from 10 to 'auto' in 1.4. Set the value of `n_init` explicitly to suppress the warning\n",
            "  warnings.warn(\n",
            "/usr/local/lib/python3.10/dist-packages/sklearn/cluster/_kmeans.py:870: FutureWarning: The default value of `n_init` will change from 10 to 'auto' in 1.4. Set the value of `n_init` explicitly to suppress the warning\n",
            "  warnings.warn(\n",
            "/usr/local/lib/python3.10/dist-packages/sklearn/cluster/_kmeans.py:870: FutureWarning: The default value of `n_init` will change from 10 to 'auto' in 1.4. Set the value of `n_init` explicitly to suppress the warning\n",
            "  warnings.warn(\n",
            "/usr/local/lib/python3.10/dist-packages/sklearn/cluster/_kmeans.py:870: FutureWarning: The default value of `n_init` will change from 10 to 'auto' in 1.4. Set the value of `n_init` explicitly to suppress the warning\n",
            "  warnings.warn(\n",
            "/usr/local/lib/python3.10/dist-packages/sklearn/cluster/_kmeans.py:870: FutureWarning: The default value of `n_init` will change from 10 to 'auto' in 1.4. Set the value of `n_init` explicitly to suppress the warning\n",
            "  warnings.warn(\n",
            "/usr/local/lib/python3.10/dist-packages/sklearn/cluster/_kmeans.py:870: FutureWarning: The default value of `n_init` will change from 10 to 'auto' in 1.4. Set the value of `n_init` explicitly to suppress the warning\n",
            "  warnings.warn(\n",
            "/usr/local/lib/python3.10/dist-packages/sklearn/cluster/_kmeans.py:870: FutureWarning: The default value of `n_init` will change from 10 to 'auto' in 1.4. Set the value of `n_init` explicitly to suppress the warning\n",
            "  warnings.warn(\n"
          ]
        }
      ]
    },
    {
      "cell_type": "code",
      "source": [
        "print(sse)\n",
        "sse"
      ],
      "metadata": {
        "colab": {
          "base_uri": "https://localhost:8080/"
        },
        "id": "lA198P_R1xlm",
        "outputId": "1b8daa28-b8a4-4e62-940f-f0c093ffd8e0"
      },
      "execution_count": null,
      "outputs": [
        {
          "output_type": "stream",
          "name": "stdout",
          "text": [
            "[3.715383772955269, 1.9876235033672065, 1.3745140352483751, 0.9577957442177824, 0.7331905587526342, 0.5846236440996695, 0.42635495467255163, 0.3219429840159708, 0.24858717448317058]\n"
          ]
        },
        {
          "output_type": "execute_result",
          "data": {
            "text/plain": [
              "[3.715383772955269,\n",
              " 1.9876235033672065,\n",
              " 1.3745140352483751,\n",
              " 0.9577957442177824,\n",
              " 0.7331905587526342,\n",
              " 0.5846236440996695,\n",
              " 0.42635495467255163,\n",
              " 0.3219429840159708,\n",
              " 0.24858717448317058]"
            ]
          },
          "metadata": {},
          "execution_count": 15
        }
      ]
    },
    {
      "cell_type": "code",
      "source": [
        "plt.xlabel('K')\n",
        "plt.ylabel('SSE')\n",
        "plt.plot(krango,sse)"
      ],
      "metadata": {
        "colab": {
          "base_uri": "https://localhost:8080/",
          "height": 467
        },
        "id": "VAAyvk5l2EXv",
        "outputId": "06642771-3a9c-453b-b3fe-1613b93baa4c"
      },
      "execution_count": null,
      "outputs": [
        {
          "output_type": "execute_result",
          "data": {
            "text/plain": [
              "[<matplotlib.lines.Line2D at 0x7e0d4c4d7c40>]"
            ]
          },
          "metadata": {},
          "execution_count": 16
        },
        {
          "output_type": "display_data",
          "data": {
            "text/plain": [
              "<Figure size 640x480 with 1 Axes>"
            ],
            "image/png": "[encoded data removed]"
          },
          "metadata": {}
        }
      ]
    },
    {
      "cell_type": "markdown",
      "source": [
        "# Ejemplo 2: Segmentación de cartera de clientes segun compras\n",
        "\n",
        "Debemos supor que existe un determinado agrupamiento de datos segun algun comportamiento, en nuestros datos. Esto dependerá para que queremos utiliar este algoritmo, por ejemplo este agrupamiento puede estar determinado segun alguna decisión de segmentación en función de objetivos predeterminados para mejorar alguna caacteristica . En otros casos cuando se recolecta la información se intenta determinar esa información si esta segmentada naturalmente."
      ],
      "metadata": {
        "id": "pW8pY3AE3WTx"
      }
    },
    {
      "cell_type": "code",
      "source": [
        "import pandas as pd\n",
        "import matplotlib.pyplot as plt\n",
        "from sklearn.preprocessing import MinMaxScaler #librerias para construir modelos, entonces esto es para estandarizar\n",
        "from sklearn.cluster import KMeans"
      ],
      "metadata": {
        "id": "7v6TvOPo3gf2"
      },
      "execution_count": null,
      "outputs": []
    },
    {
      "cell_type": "code",
      "source": [
        "clientes=pd.DataFrame({'saldo':[50000, 45000,48000,43500,47000,52000,\n",
        "                                20000,26000,25000,23000,21400,18000,\n",
        "                                8000,12000,6000,14500,12600,7000],\n",
        "                       'transacciones':[25,20,16,23,25,18,\n",
        "                                        23,22,24,21,27,18,\n",
        "                                        8,3,6,4,9,3]})\n",
        "print(clientes)"
      ],
      "metadata": {
        "colab": {
          "base_uri": "https://localhost:8080/"
        },
        "id": "OT9B31vv6Cw_",
        "outputId": "e0726902-decd-4682-8994-92b2cc7c7929"
      },
      "execution_count": null,
      "outputs": [
        {
          "output_type": "stream",
          "name": "stdout",
          "text": [
            "    saldo  transacciones\n",
            "0   50000             25\n",
            "1   45000             20\n",
            "2   48000             16\n",
            "3   43500             23\n",
            "4   47000             25\n",
            "5   52000             18\n",
            "6   20000             23\n",
            "7   26000             22\n",
            "8   25000             24\n",
            "9   23000             21\n",
            "10  21400             27\n",
            "11  18000             18\n",
            "12   8000              8\n",
            "13  12000              3\n",
            "14   6000              6\n",
            "15  14500              4\n",
            "16  12600              9\n",
            "17   7000              3\n"
          ]
        }
      ]
    },
    {
      "cell_type": "code",
      "source": [
        "plt.scatter(clientes['saldo'], clientes['transacciones'])\n",
        "plt.show()"
      ],
      "metadata": {
        "colab": {
          "base_uri": "https://localhost:8080/",
          "height": 430
        },
        "id": "JFfwGXmJloE6",
        "outputId": "af6a25d8-5154-4af2-9a35-74da751bcb1d"
      },
      "execution_count": null,
      "outputs": [
        {
          "output_type": "display_data",
          "data": {
            "text/plain": [
              "<Figure size 640x480 with 1 Axes>"
            ],
            "image/png": "[encoded data removed]"
          },
          "metadata": {}
        }
      ]
    },
    {
      "cell_type": "code",
      "source": [
        "escalador = MinMaxScaler().fit(clientes.values)  #estandarizar los datos\n",
        "\n",
        "clientes1 = pd.DataFrame(escalador.transform(clientes.values),\n",
        "                       columns=[\"saldo\", \"transacciones\"]) #crea el dataframe utilizando objetos de la clase definida arriba\n",
        "\n",
        "kmeans = KMeans(n_clusters=5).fit(clientes1.values) #utiliza el algoritmo de cluster\n",
        "\n",
        "clientes1[\"cluster\"] = kmeans.labels_ #agrega a la base de datos la etiqueta del cluster q pertenece\n",
        "\n"
      ],
      "metadata": {
        "id": "Ixg3sudE7ylr",
        "colab": {
          "base_uri": "https://localhost:8080/"
        },
        "outputId": "24d68312-5478-4955-dfe0-0bd0f25d41e9"
      },
      "execution_count": null,
      "outputs": [
        {
          "output_type": "stream",
          "name": "stderr",
          "text": [
            "/usr/local/lib/python3.10/dist-packages/sklearn/cluster/_kmeans.py:870: FutureWarning: The default value of `n_init` will change from 10 to 'auto' in 1.4. Set the value of `n_init` explicitly to suppress the warning\n",
            "  warnings.warn(\n"
          ]
        }
      ]
    },
    {
      "cell_type": "code",
      "source": [
        "display(clientes1)\n",
        "clientes1.describe()"
      ],
      "metadata": {
        "colab": {
          "base_uri": "https://localhost:8080/",
          "height": 896
        },
        "id": "V5Zb7dB1O9nY",
        "outputId": "a2fb294f-2ba8-42fe-e64e-51b98476d820"
      },
      "execution_count": null,
      "outputs": [
        {
          "output_type": "display_data",
          "data": {
            "text/plain": [
              "       saldo  transacciones  cluster\n",
              "0   0.956522       0.916667        1\n",
              "1   0.847826       0.708333        3\n",
              "2   0.913043       0.541667        3\n",
              "3   0.815217       0.833333        1\n",
              "4   0.891304       0.916667        1\n",
              "5   1.000000       0.625000        3\n",
              "6   0.304348       0.833333        2\n",
              "7   0.434783       0.791667        2\n",
              "8   0.413043       0.875000        2\n",
              "9   0.369565       0.750000        2\n",
              "10  0.334783       1.000000        2\n",
              "11  0.260870       0.625000        2\n",
              "12  0.043478       0.208333        4\n",
              "13  0.130435       0.000000        0\n",
              "14  0.000000       0.125000        4\n",
              "15  0.184783       0.041667        0\n",
              "16  0.143478       0.250000        4\n",
              "17  0.021739       0.000000        0"
            ],
            "text/html": [
              "\n",
              "  <div id=\"df-6c78b8cc-e5c1-4be2-9083-ed8f652aa928\" class=\"colab-df-container\">\n",
              "    <div>\n",
              "<style scoped>\n",
              "    .dataframe tbody tr th:only-of-type {\n",
              "        vertical-align: middle;\n",
              "    }\n",
              "\n",
              "    .dataframe tbody tr th {\n",
              "        vertical-align: top;\n",
              "    }\n",
              "\n",
              "    .dataframe thead th {\n",
              "        text-align: right;\n",
              "    }\n",
              "</style>\n",
              "<table border=\"1\" class=\"dataframe\">\n",
              "  <thead>\n",
              "    <tr style=\"text-align: right;\">\n",
              "      <th></th>\n",
              "      <th>saldo</th>\n",
              "      <th>transacciones</th>\n",
              "      <th>cluster</th>\n",
              "    </tr>\n",
              "  </thead>\n",
              "  <tbody>\n",
              "    <tr>\n",
              "      <th>0</th>\n",
              "      <td>0.956522</td>\n",
              "      <td>0.916667</td>\n",
              "      <td>1</td>\n",
              "    </tr>\n",
              "    <tr>\n",
              "      <th>1</th>\n",
              "      <td>0.847826</td>\n",
              "      <td>0.708333</td>\n",
              "      <td>3</td>\n",
              "    </tr>\n",
              "    <tr>\n",
              "      <th>2</th>\n",
              "      <td>0.913043</td>\n",
              "      <td>0.541667</td>\n",
              "      <td>3</td>\n",
              "    </tr>\n",
              "    <tr>\n",
              "      <th>3</th>\n",
              "      <td>0.815217</td>\n",
              "      <td>0.833333</td>\n",
              "      <td>1</td>\n",
              "    </tr>\n",
              "    <tr>\n",
              "      <th>4</th>\n",
              "      <td>0.891304</td>\n",
              "      <td>0.916667</td>\n",
              "      <td>1</td>\n",
              "    </tr>\n",
              "    <tr>\n",
              "      <th>5</th>\n",
              "      <td>1.000000</td>\n",
              "      <td>0.625000</td>\n",
              "      <td>3</td>\n",
              "    </tr>\n",
              "    <tr>\n",
              "      <th>6</th>\n",
              "      <td>0.304348</td>\n",
              "      <td>0.833333</td>\n",
              "      <td>2</td>\n",
              "    </tr>\n",
              "    <tr>\n",
              "      <th>7</th>\n",
              "      <td>0.434783</td>\n",
              "      <td>0.791667</td>\n",
              "      <td>2</td>\n",
              "    </tr>\n",
              "    <tr>\n",
              "      <th>8</th>\n",
              "      <td>0.413043</td>\n",
              "      <td>0.875000</td>\n",
              "      <td>2</td>\n",
              "    </tr>\n",
              "    <tr>\n",
              "      <th>9</th>\n",
              "      <td>0.369565</td>\n",
              "      <td>0.750000</td>\n",
              "      <td>2</td>\n",
              "    </tr>\n",
              "    <tr>\n",
              "      <th>10</th>\n",
              "      <td>0.334783</td>\n",
              "      <td>1.000000</td>\n",
              "      <td>2</td>\n",
              "    </tr>\n",
              "    <tr>\n",
              "      <th>11</th>\n",
              "      <td>0.260870</td>\n",
              "      <td>0.625000</td>\n",
              "      <td>2</td>\n",
              "    </tr>\n",
              "    <tr>\n",
              "      <th>12</th>\n",
              "      <td>0.043478</td>\n",
              "      <td>0.208333</td>\n",
              "      <td>4</td>\n",
              "    </tr>\n",
              "    <tr>\n",
              "      <th>13</th>\n",
              "      <td>0.130435</td>\n",
              "      <td>0.000000</td>\n",
              "      <td>0</td>\n",
              "    </tr>\n",
              "    <tr>\n",
              "      <th>14</th>\n",
              "      <td>0.000000</td>\n",
              "      <td>0.125000</td>\n",
              "      <td>4</td>\n",
              "    </tr>\n",
              "    <tr>\n",
              "      <th>15</th>\n",
              "      <td>0.184783</td>\n",
              "      <td>0.041667</td>\n",
              "      <td>0</td>\n",
              "    </tr>\n",
              "    <tr>\n",
              "      <th>16</th>\n",
              "      <td>0.143478</td>\n",
              "      <td>0.250000</td>\n",
              "      <td>4</td>\n",
              "    </tr>\n",
              "    <tr>\n",
              "      <th>17</th>\n",
              "      <td>0.021739</td>\n",
              "      <td>0.000000</td>\n",
              "      <td>0</td>\n",
              "    </tr>\n",
              "  </tbody>\n",
              "</table>\n",
              "</div>\n",
              "    <div class=\"colab-df-buttons\">\n",
              "\n",
              "  <div class=\"colab-df-container\">\n",
              "    <button class=\"colab-df-convert\" onclick=\"convertToInteractive('df-6c78b8cc-e5c1-4be2-9083-ed8f652aa928')\"\n",
              "            title=\"Convert this dataframe to an interactive table.\"\n",
              "            style=\"display:none;\">\n",
              "\n",
              "  <svg xmlns=\"http://www.w3.org/2000/svg\" height=\"24px\" viewBox=\"0 -960 960 960\">\n",
              "    <path d=\"M120-120v-720h720v720H120Zm60-500h600v-160H180v160Zm220 220h160v-160H400v160Zm0 220h160v-160H400v160ZM180-400h160v-160H180v160Zm440 0h160v-160H620v160ZM180-180h160v-160H180v160Zm440 0h160v-160H620v160Z\"/>\n",
              "  </svg>\n",
              "    </button>\n",
              "\n",
              "  <style>\n",
              "    .colab-df-container {\n",
              "      display:flex;\n",
              "      gap: 12px;\n",
              "    }\n",
              "\n",
              "    .colab-df-convert {\n",
              "      background-color: #E8F0FE;\n",
              "      border: none;\n",
              "      border-radius: 50%;\n",
              "      cursor: pointer;\n",
              "      display: none;\n",
              "      fill: #1967D2;\n",
              "      height: 32px;\n",
              "      padding: 0 0 0 0;\n",
              "      width: 32px;\n",
              "    }\n",
              "\n",
              "    .colab-df-convert:hover {\n",
              "      background-color: #E2EBFA;\n",
              "      box-shadow: 0px 1px 2px rgba(60, 64, 67, 0.3), 0px 1px 3px 1px rgba(60, 64, 67, 0.15);\n",
              "      fill: #174EA6;\n",
              "    }\n",
              "\n",
              "    .colab-df-buttons div {\n",
              "      margin-bottom: 4px;\n",
              "    }\n",
              "\n",
              "    [theme=dark] .colab-df-convert {\n",
              "      background-color: #3B4455;\n",
              "      fill: #D2E3FC;\n",
              "    }\n",
              "\n",
              "    [theme=dark] .colab-df-convert:hover {\n",
              "      background-color: #434B5C;\n",
              "      box-shadow: 0px 1px 3px 1px rgba(0, 0, 0, 0.15);\n",
              "      filter: drop-shadow(0px 1px 2px rgba(0, 0, 0, 0.3));\n",
              "      fill: #FFFFFF;\n",
              "    }\n",
              "  </style>\n",
              "\n",
              "    <script>\n",
              "      const buttonEl =\n",
              "        document.querySelector('#df-6c78b8cc-e5c1-4be2-9083-ed8f652aa928 button.colab-df-convert');\n",
              "      buttonEl.style.display =\n",
              "        google.colab.kernel.accessAllowed ? 'block' : 'none';\n",
              "\n",
              "      async function convertToInteractive(key) {\n",
              "        const element = document.querySelector('#df-6c78b8cc-e5c1-4be2-9083-ed8f652aa928');\n",
              "        const dataTable =\n",
              "          await google.colab.kernel.invokeFunction('convertToInteractive',\n",
              "                                                    [key], {});\n",
              "        if (!dataTable) return;\n",
              "\n",
              "        const docLinkHtml = 'Like what you see? Visit the ' +\n",
              "          '<a target=\"_blank\" href=https://colab.research.google.com/notebooks/data_table.ipynb>data table notebook</a>'\n",
              "          + ' to learn more about interactive tables.';\n",
              "        element.innerHTML = '';\n",
              "        dataTable['output_type'] = 'display_data';\n",
              "        await google.colab.output.renderOutput(dataTable, element);\n",
              "        const docLink = document.createElement('div');\n",
              "        docLink.innerHTML = docLinkHtml;\n",
              "        element.appendChild(docLink);\n",
              "      }\n",
              "    </script>\n",
              "  </div>\n",
              "\n",
              "\n",
              "<div id=\"df-64850b20-0378-412f-ac47-6ae54de99973\">\n",
              "  <button class=\"colab-df-quickchart\" onclick=\"quickchart('df-64850b20-0378-412f-ac47-6ae54de99973')\"\n",
              "            title=\"Suggest charts.\"\n",
              "            style=\"display:none;\">\n",
              "\n",
              "<svg xmlns=\"http://www.w3.org/2000/svg\" height=\"24px\"viewBox=\"0 0 24 24\"\n",
              "     width=\"24px\">\n",
              "    <g>\n",
              "        <path d=\"M19 3H5c-1.1 0-2 .9-2 2v14c0 1.1.9 2 2 2h14c1.1 0 2-.9 2-2V5c0-1.1-.9-2-2-2zM9 17H7v-7h2v7zm4 0h-2V7h2v10zm4 0h-2v-4h2v4z\"/>\n",
              "    </g>\n",
              "</svg>\n",
              "  </button>\n",
              "\n",
              "<style>\n",
              "  .colab-df-quickchart {\n",
              "    background-color: #E8F0FE;\n",
              "    border: none;\n",
              "    border-radius: 50%;\n",
              "    cursor: pointer;\n",
              "    display: none;\n",
              "    fill: #1967D2;\n",
              "    height: 32px;\n",
              "    padding: 0 0 0 0;\n",
              "    width: 32px;\n",
              "  }\n",
              "\n",
              "  .colab-df-quickchart:hover {\n",
              "    background-color: #E2EBFA;\n",
              "    box-shadow: 0px 1px 2px rgba(60, 64, 67, 0.3), 0px 1px 3px 1px rgba(60, 64, 67, 0.15);\n",
              "    fill: #174EA6;\n",
              "  }\n",
              "\n",
              "  [theme=dark] .colab-df-quickchart {\n",
              "    background-color: #3B4455;\n",
              "    fill: #D2E3FC;\n",
              "  }\n",
              "\n",
              "  [theme=dark] .colab-df-quickchart:hover {\n",
              "    background-color: #434B5C;\n",
              "    box-shadow: 0px 1px 3px 1px rgba(0, 0, 0, 0.15);\n",
              "    filter: drop-shadow(0px 1px 2px rgba(0, 0, 0, 0.3));\n",
              "    fill: #FFFFFF;\n",
              "  }\n",
              "</style>\n",
              "\n",
              "  <script>\n",
              "    async function quickchart(key) {\n",
              "      const charts = await google.colab.kernel.invokeFunction(\n",
              "          'suggestCharts', [key], {});\n",
              "    }\n",
              "    (() => {\n",
              "      let quickchartButtonEl =\n",
              "        document.querySelector('#df-64850b20-0378-412f-ac47-6ae54de99973 button');\n",
              "      quickchartButtonEl.style.display =\n",
              "        google.colab.kernel.accessAllowed ? 'block' : 'none';\n",
              "    })();\n",
              "  </script>\n",
              "</div>\n",
              "    </div>\n",
              "  </div>\n"
            ]
          },
          "metadata": {}
        },
        {
          "output_type": "execute_result",
          "data": {
            "text/plain": [
              "           saldo  transacciones    cluster\n",
              "count  18.000000      18.000000  18.000000\n",
              "mean    0.448068       0.557870   2.000000\n",
              "std     0.356100       0.353305   1.328422\n",
              "min     0.000000       0.000000   0.000000\n",
              "25%     0.153804       0.218750   1.000000\n",
              "50%     0.352174       0.666667   2.000000\n",
              "75%     0.839674       0.833333   3.000000\n",
              "max     1.000000       1.000000   4.000000"
            ],
            "text/html": [
              "\n",
              "  <div id=\"df-f32fb5cb-d444-4748-b25f-ede3e046c3d1\" class=\"colab-df-container\">\n",
              "    <div>\n",
              "<style scoped>\n",
              "    .dataframe tbody tr th:only-of-type {\n",
              "        vertical-align: middle;\n",
              "    }\n",
              "\n",
              "    .dataframe tbody tr th {\n",
              "        vertical-align: top;\n",
              "    }\n",
              "\n",
              "    .dataframe thead th {\n",
              "        text-align: right;\n",
              "    }\n",
              "</style>\n",
              "<table border=\"1\" class=\"dataframe\">\n",
              "  <thead>\n",
              "    <tr style=\"text-align: right;\">\n",
              "      <th></th>\n",
              "      <th>saldo</th>\n",
              "      <th>transacciones</th>\n",
              "      <th>cluster</th>\n",
              "    </tr>\n",
              "  </thead>\n",
              "  <tbody>\n",
              "    <tr>\n",
              "      <th>count</th>\n",
              "      <td>18.000000</td>\n",
              "      <td>18.000000</td>\n",
              "      <td>18.000000</td>\n",
              "    </tr>\n",
              "    <tr>\n",
              "      <th>mean</th>\n",
              "      <td>0.448068</td>\n",
              "      <td>0.557870</td>\n",
              "      <td>2.000000</td>\n",
              "    </tr>\n",
              "    <tr>\n",
              "      <th>std</th>\n",
              "      <td>0.356100</td>\n",
              "      <td>0.353305</td>\n",
              "      <td>1.328422</td>\n",
              "    </tr>\n",
              "    <tr>\n",
              "      <th>min</th>\n",
              "      <td>0.000000</td>\n",
              "      <td>0.000000</td>\n",
              "      <td>0.000000</td>\n",
              "    </tr>\n",
              "    <tr>\n",
              "      <th>25%</th>\n",
              "      <td>0.153804</td>\n",
              "      <td>0.218750</td>\n",
              "      <td>1.000000</td>\n",
              "    </tr>\n",
              "    <tr>\n",
              "      <th>50%</th>\n",
              "      <td>0.352174</td>\n",
              "      <td>0.666667</td>\n",
              "      <td>2.000000</td>\n",
              "    </tr>\n",
              "    <tr>\n",
              "      <th>75%</th>\n",
              "      <td>0.839674</td>\n",
              "      <td>0.833333</td>\n",
              "      <td>3.000000</td>\n",
              "    </tr>\n",
              "    <tr>\n",
              "      <th>max</th>\n",
              "      <td>1.000000</td>\n",
              "      <td>1.000000</td>\n",
              "      <td>4.000000</td>\n",
              "    </tr>\n",
              "  </tbody>\n",
              "</table>\n",
              "</div>\n",
              "    <div class=\"colab-df-buttons\">\n",
              "\n",
              "  <div class=\"colab-df-container\">\n",
              "    <button class=\"colab-df-convert\" onclick=\"convertToInteractive('df-f32fb5cb-d444-4748-b25f-ede3e046c3d1')\"\n",
              "            title=\"Convert this dataframe to an interactive table.\"\n",
              "            style=\"display:none;\">\n",
              "\n",
              "  <svg xmlns=\"http://www.w3.org/2000/svg\" height=\"24px\" viewBox=\"0 -960 960 960\">\n",
              "    <path d=\"M120-120v-720h720v720H120Zm60-500h600v-160H180v160Zm220 220h160v-160H400v160Zm0 220h160v-160H400v160ZM180-400h160v-160H180v160Zm440 0h160v-160H620v160ZM180-180h160v-160H180v160Zm440 0h160v-160H620v160Z\"/>\n",
              "  </svg>\n",
              "    </button>\n",
              "\n",
              "  <style>\n",
              "    .colab-df-container {\n",
              "      display:flex;\n",
              "      gap: 12px;\n",
              "    }\n",
              "\n",
              "    .colab-df-convert {\n",
              "      background-color: #E8F0FE;\n",
              "      border: none;\n",
              "      border-radius: 50%;\n",
              "      cursor: pointer;\n",
              "      display: none;\n",
              "      fill: #1967D2;\n",
              "      height: 32px;\n",
              "      padding: 0 0 0 0;\n",
              "      width: 32px;\n",
              "    }\n",
              "\n",
              "    .colab-df-convert:hover {\n",
              "      background-color: #E2EBFA;\n",
              "      box-shadow: 0px 1px 2px rgba(60, 64, 67, 0.3), 0px 1px 3px 1px rgba(60, 64, 67, 0.15);\n",
              "      fill: #174EA6;\n",
              "    }\n",
              "\n",
              "    .colab-df-buttons div {\n",
              "      margin-bottom: 4px;\n",
              "    }\n",
              "\n",
              "    [theme=dark] .colab-df-convert {\n",
              "      background-color: #3B4455;\n",
              "      fill: #D2E3FC;\n",
              "    }\n",
              "\n",
              "    [theme=dark] .colab-df-convert:hover {\n",
              "      background-color: #434B5C;\n",
              "      box-shadow: 0px 1px 3px 1px rgba(0, 0, 0, 0.15);\n",
              "      filter: drop-shadow(0px 1px 2px rgba(0, 0, 0, 0.3));\n",
              "      fill: #FFFFFF;\n",
              "    }\n",
              "  </style>\n",
              "\n",
              "    <script>\n",
              "      const buttonEl =\n",
              "        document.querySelector('#df-f32fb5cb-d444-4748-b25f-ede3e046c3d1 button.colab-df-convert');\n",
              "      buttonEl.style.display =\n",
              "        google.colab.kernel.accessAllowed ? 'block' : 'none';\n",
              "\n",
              "      async function convertToInteractive(key) {\n",
              "        const element = document.querySelector('#df-f32fb5cb-d444-4748-b25f-ede3e046c3d1');\n",
              "        const dataTable =\n",
              "          await google.colab.kernel.invokeFunction('convertToInteractive',\n",
              "                                                    [key], {});\n",
              "        if (!dataTable) return;\n",
              "\n",
              "        const docLinkHtml = 'Like what you see? Visit the ' +\n",
              "          '<a target=\"_blank\" href=https://colab.research.google.com/notebooks/data_table.ipynb>data table notebook</a>'\n",
              "          + ' to learn more about interactive tables.';\n",
              "        element.innerHTML = '';\n",
              "        dataTable['output_type'] = 'display_data';\n",
              "        await google.colab.output.renderOutput(dataTable, element);\n",
              "        const docLink = document.createElement('div');\n",
              "        docLink.innerHTML = docLinkHtml;\n",
              "        element.appendChild(docLink);\n",
              "      }\n",
              "    </script>\n",
              "  </div>\n",
              "\n",
              "\n",
              "<div id=\"df-db59f4a4-dff9-4859-be54-f7bc4822f22e\">\n",
              "  <button class=\"colab-df-quickchart\" onclick=\"quickchart('df-db59f4a4-dff9-4859-be54-f7bc4822f22e')\"\n",
              "            title=\"Suggest charts.\"\n",
              "            style=\"display:none;\">\n",
              "\n",
              "<svg xmlns=\"http://www.w3.org/2000/svg\" height=\"24px\"viewBox=\"0 0 24 24\"\n",
              "     width=\"24px\">\n",
              "    <g>\n",
              "        <path d=\"M19 3H5c-1.1 0-2 .9-2 2v14c0 1.1.9 2 2 2h14c1.1 0 2-.9 2-2V5c0-1.1-.9-2-2-2zM9 17H7v-7h2v7zm4 0h-2V7h2v10zm4 0h-2v-4h2v4z\"/>\n",
              "    </g>\n",
              "</svg>\n",
              "  </button>\n",
              "\n",
              "<style>\n",
              "  .colab-df-quickchart {\n",
              "    background-color: #E8F0FE;\n",
              "    border: none;\n",
              "    border-radius: 50%;\n",
              "    cursor: pointer;\n",
              "    display: none;\n",
              "    fill: #1967D2;\n",
              "    height: 32px;\n",
              "    padding: 0 0 0 0;\n",
              "    width: 32px;\n",
              "  }\n",
              "\n",
              "  .colab-df-quickchart:hover {\n",
              "    background-color: #E2EBFA;\n",
              "    box-shadow: 0px 1px 2px rgba(60, 64, 67, 0.3), 0px 1px 3px 1px rgba(60, 64, 67, 0.15);\n",
              "    fill: #174EA6;\n",
              "  }\n",
              "\n",
              "  [theme=dark] .colab-df-quickchart {\n",
              "    background-color: #3B4455;\n",
              "    fill: #D2E3FC;\n",
              "  }\n",
              "\n",
              "  [theme=dark] .colab-df-quickchart:hover {\n",
              "    background-color: #434B5C;\n",
              "    box-shadow: 0px 1px 3px 1px rgba(0, 0, 0, 0.15);\n",
              "    filter: drop-shadow(0px 1px 2px rgba(0, 0, 0, 0.3));\n",
              "    fill: #FFFFFF;\n",
              "  }\n",
              "</style>\n",
              "\n",
              "  <script>\n",
              "    async function quickchart(key) {\n",
              "      const charts = await google.colab.kernel.invokeFunction(\n",
              "          'suggestCharts', [key], {});\n",
              "    }\n",
              "    (() => {\n",
              "      let quickchartButtonEl =\n",
              "        document.querySelector('#df-db59f4a4-dff9-4859-be54-f7bc4822f22e button');\n",
              "      quickchartButtonEl.style.display =\n",
              "        google.colab.kernel.accessAllowed ? 'block' : 'none';\n",
              "    })();\n",
              "  </script>\n",
              "</div>\n",
              "    </div>\n",
              "  </div>\n"
            ]
          },
          "metadata": {},
          "execution_count": 21
        }
      ]
    },
    {
      "cell_type": "code",
      "source": [
        "print(kmeans.labels_ )\n",
        "kmeans.labels_"
      ],
      "metadata": {
        "colab": {
          "base_uri": "https://localhost:8080/"
        },
        "id": "04PCOuH0StUO",
        "outputId": "1a7ca177-6f6a-4607-96f1-87b6b20c2ffa"
      },
      "execution_count": null,
      "outputs": [
        {
          "output_type": "stream",
          "name": "stdout",
          "text": [
            "[0 3 3 0 0 3 2 2 2 2 2 2 1 4 1 4 1 4]\n"
          ]
        },
        {
          "output_type": "execute_result",
          "data": {
            "text/plain": [
              "array([0, 3, 3, 0, 0, 3, 2, 2, 2, 2, 2, 2, 1, 4, 1, 4, 1, 4], dtype=int32)"
            ]
          },
          "metadata": {},
          "execution_count": 5
        }
      ]
    },
    {
      "cell_type": "code",
      "source": [
        "print(kmeans.cluster_centers_,kmeans.inertia_)"
      ],
      "metadata": {
        "colab": {
          "base_uri": "https://localhost:8080/"
        },
        "id": "LI1mY0uRVMQ9",
        "outputId": "20972950-e8ec-44cd-c936-86c3f5932882"
      },
      "execution_count": null,
      "outputs": [
        {
          "output_type": "stream",
          "name": "stdout",
          "text": [
            "[[0.88768116 0.88888889]\n",
            " [0.06231884 0.19444444]\n",
            " [0.35289855 0.8125    ]\n",
            " [0.92028986 0.625     ]\n",
            " [0.11231884 0.01388889]] 0.17479540800252052\n"
          ]
        }
      ]
    },
    {
      "cell_type": "code",
      "source": [
        "# Instrucciones para graficar los clusters\n",
        "\n",
        "plt.figure(figsize=(6, 5), dpi=100)\n",
        "\n",
        "#colores = [\"red\", \"blue\", \"orange\", \"black\", \"purple\", \"pink\", \"brown\"]\n",
        "colores = [\"red\", \"blue\", \"orange\", \"black\", \"purple\"]\n",
        "\n",
        "for cluster in range(kmeans.n_clusters):\n",
        "    plt.scatter(clientes1[clientes1[\"cluster\"] == cluster][\"saldo\"],\n",
        "                clientes1[clientes1[\"cluster\"] == cluster][\"transacciones\"],\n",
        "                marker=\"o\", s=180, color=colores[cluster], alpha=0.5)\n",
        "\n",
        "    plt.scatter(kmeans.cluster_centers_[cluster][0],\n",
        "                kmeans.cluster_centers_[cluster][1],\n",
        "                marker=\"P\", s=280, color=colores[cluster])\n",
        "\n",
        "plt.title(\"Clientes\", fontsize=20)\n",
        "plt.xlabel(\"Saldo en cuenta de ahorros (pesos)\", fontsize=15)\n",
        "plt.ylabel(\"Veces que usó tarjeta de crédito\", fontsize=15)\n",
        "plt.text(1.15, 0.2, \"K = %i\" % kmeans.n_clusters, fontsize=25)\n",
        "plt.text(1.15, 0, \"Inercia = %0.2f\" % kmeans.inertia_, fontsize=25)\n",
        "plt.xlim(-0.1, 1.1)\n",
        "plt.ylim(-0.1, 1.1)\n",
        "plt.show()\n",
        "\n",
        "del clientes1[\"cluster\"]"
      ],
      "metadata": {
        "colab": {
          "base_uri": "https://localhost:8080/",
          "height": 501
        },
        "id": "UMMfHikH8qge",
        "outputId": "f36742bd-0531-40a7-c802-e6f4e44565a7"
      },
      "execution_count": null,
      "outputs": [
        {
          "output_type": "display_data",
          "data": {
            "text/plain": [
              "<Figure size 600x500 with 1 Axes>"
            ],
            "image/png": "[encoded data removed]"
          },
          "metadata": {}
        }
      ]
    },
    {
      "cell_type": "markdown",
      "source": [
        "## Cálculo del número de Clusters (K)"
      ],
      "metadata": {
        "id": "__ZP9M68U4qx"
      }
    },
    {
      "cell_type": "code",
      "source": [
        "inercias = []\n",
        "for k in range(2, 10):\n",
        "    kmeans = KMeans(n_clusters=k).fit(clientes1.values)\n",
        "    inercias.append(kmeans.inertia_)\n",
        "\n",
        "plt.figure(figsize=(6, 5), dpi=100)\n",
        "plt.scatter(range(2, 10), inercias, marker=\"o\", s=180, color=\"purple\")\n",
        "plt.xlabel(\"Número de Clusters\", fontsize=25)\n",
        "plt.ylabel(\"Inercia\", fontsize=25)\n",
        "plt.show()"
      ],
      "metadata": {
        "colab": {
          "base_uri": "https://localhost:8080/",
          "height": 792
        },
        "id": "uS_NtVyUU3pR",
        "outputId": "48eb30b2-11c4-4d1a-ee7e-c4c1258d6036"
      },
      "execution_count": null,
      "outputs": [
        {
          "output_type": "stream",
          "name": "stderr",
          "text": [
            "/usr/local/lib/python3.10/dist-packages/sklearn/cluster/_kmeans.py:870: FutureWarning: The default value of `n_init` will change from 10 to 'auto' in 1.4. Set the value of `n_init` explicitly to suppress the warning\n",
            "  warnings.warn(\n",
            "/usr/local/lib/python3.10/dist-packages/sklearn/cluster/_kmeans.py:870: FutureWarning: The default value of `n_init` will change from 10 to 'auto' in 1.4. Set the value of `n_init` explicitly to suppress the warning\n",
            "  warnings.warn(\n",
            "/usr/local/lib/python3.10/dist-packages/sklearn/cluster/_kmeans.py:870: FutureWarning: The default value of `n_init` will change from 10 to 'auto' in 1.4. Set the value of `n_init` explicitly to suppress the warning\n",
            "  warnings.warn(\n",
            "/usr/local/lib/python3.10/dist-packages/sklearn/cluster/_kmeans.py:870: FutureWarning: The default value of `n_init` will change from 10 to 'auto' in 1.4. Set the value of `n_init` explicitly to suppress the warning\n",
            "  warnings.warn(\n",
            "/usr/local/lib/python3.10/dist-packages/sklearn/cluster/_kmeans.py:870: FutureWarning: The default value of `n_init` will change from 10 to 'auto' in 1.4. Set the value of `n_init` explicitly to suppress the warning\n",
            "  warnings.warn(\n",
            "/usr/local/lib/python3.10/dist-packages/sklearn/cluster/_kmeans.py:870: FutureWarning: The default value of `n_init` will change from 10 to 'auto' in 1.4. Set the value of `n_init` explicitly to suppress the warning\n",
            "  warnings.warn(\n",
            "/usr/local/lib/python3.10/dist-packages/sklearn/cluster/_kmeans.py:870: FutureWarning: The default value of `n_init` will change from 10 to 'auto' in 1.4. Set the value of `n_init` explicitly to suppress the warning\n",
            "  warnings.warn(\n",
            "/usr/local/lib/python3.10/dist-packages/sklearn/cluster/_kmeans.py:870: FutureWarning: The default value of `n_init` will change from 10 to 'auto' in 1.4. Set the value of `n_init` explicitly to suppress the warning\n",
            "  warnings.warn(\n"
          ]
        },
        {
          "output_type": "display_data",
          "data": {
            "text/plain": [
              "<Figure size 600x500 with 1 Axes>"
            ],
            "image/png": "[encoded data removed]"
          },
          "metadata": {}
        }
      ]
    },
    {
      "cell_type": "code",
      "source": [],
      "metadata": {
        "id": "5w6flM3OfemN"
      },
      "execution_count": null,
      "outputs": []
    }
  ]
}